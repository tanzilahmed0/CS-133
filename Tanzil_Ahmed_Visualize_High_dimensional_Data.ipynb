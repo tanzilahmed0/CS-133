{
  "nbformat": 4,
  "nbformat_minor": 0,
  "metadata": {
    "colab": {
      "provenance": [],
      "include_colab_link": true
    },
    "kernelspec": {
      "name": "python3",
      "display_name": "Python 3"
    },
    "language_info": {
      "name": "python"
    }
  },
  "cells": [
    {
      "cell_type": "markdown",
      "metadata": {
        "id": "view-in-github",
        "colab_type": "text"
      },
      "source": [
        "<a href=\"https://colab.research.google.com/github/tanzilahmed0/CS-133/blob/main/Tanzil_Ahmed_Visualize_High_dimensional_Data.ipynb\" target=\"_parent\"><img src=\"https://colab.research.google.com/assets/colab-badge.svg\" alt=\"Open In Colab\"/></a>"
      ]
    },
    {
      "cell_type": "markdown",
      "source": [
        "### **Hands-on: Visualizing High-Dimensional Data with PCA, t-SNE, and UMAP**\n",
        "\n",
        "#### **Objective**\n",
        "In this assignment, you will learn how to reduce high-dimensional data to two dimensions and visualize it using three popular dimensionality reduction techniques: PCA (Principal Component Analysis), t-SNE (t-Distributed Stochastic Neighbor Embedding), and UMAP (Uniform Manifold Approximation and Projection). The goal is to observe how well each method captures and visualizes clusters based on different wine cultivars.\n",
        "\n",
        "#### **Dataset**\n",
        "We will use the **Wine Dataset** from `scikit-learn`, which contains 13 chemical features of wines from three cultivars. Each wine sample is labeled according to its cultivar, allowing us to assess the clustering effectiveness of each dimensionality reduction technique.\n",
        "\n",
        "#### **Instructions**\n",
        "\n",
        "1. **Load and Prepare the Data**\n",
        "   - Load the Wine dataset from `sklearn.datasets`.\n",
        "   ```\n",
        "   from sklearn.datasets import load_wine\n",
        "   X = wine.data  # Features\n",
        "   y = wine.target  # Labels\n",
        "   target_names = wine.target_names # Wine Cultivars (class_0, class_1, class_2)\n",
        "   ```\n",
        "   - Extract the features (`X`) and target labels (`y`), where each row represents the chemical composition of a wine sample, and each label represents its cultivar.\n",
        "   \n",
        "   - Standardize the data using `StandardScaler` to ensure each feature has a mean of 0 and a standard deviation of 1. Standardization improves the performance of dimensionality reduction techniques by balancing the scale of features.\n",
        "\n",
        "   ```\n",
        "   scaler = StandardScaler()\n",
        "   X_scaled = scaler.fit_transform(X)\n",
        "   ```\n",
        "\n",
        "2. **Implement Dimensionality Reduction Techniques**\n",
        "   - **PCA**: Use `sklearn.decomposition.PCA` to reduce the 13-dimensional standardized data to 2D.\n",
        "   - **t-SNE**: Use `sklearn.manifold.TSNE` to reduce the 13-dimensional standardized data to 2D. Experiment with the `perplexity` parameter to observe its effect on clustering.\n",
        "   - **UMAP**: Use `umap.UMAP()` to reduce the 13-dimensional standardized data to 2D. Experiment with `n_neighbors` and `min_dist` parameters to see how they influence clustering.\n",
        "\n",
        "3. **Track and Discuss Time Efficiency**\n",
        "   - For each method (PCA, t-SNE, and UMAP), measure the time it takes to execute the dimensionality reduction.\n",
        "   - To do this, use `time.time()` to record the start time before the reduction and end time after it. Calculate the duration by taking the difference between the start and end times.\n",
        "   - Discuss the time efficiency of each method based on these measurements, noting which methods are faster and which may require more computational time.\n",
        "\n",
        "4. **Visualize the Results**\n",
        "   - For each method, create a 2D scatter plot of the first two components.\n",
        "   - You may use **either Plotly Express or Seaborn’s `relplot`** to visualize the data:\n",
        "     - If using **Plotly Express**: Use `px.scatter` to create an interactive scatter plot with the wine cultivars as colors.\n",
        "     - If using **Seaborn’s `relplot`**: Use `sns.relplot` to create a scatter plot with `hue` set to the wine cultivars.\n",
        "   - Each plot should clearly indicate the dimensionality reduction technique used (PCA, t-SNE, or UMAP) in the title.\n",
        "\n",
        "5. **Analysis**\n",
        "   - Observe and compare the clustering patterns for each method. Describe which method(s) provide the clearest separation of the wine cultivars.\n",
        "   - Refer to your time measurements and discuss which technique is most computationally efficient and why this may be the case.\n",
        "\n",
        "#### **Deliverables**\n",
        "- A Colab Notebook with:\n",
        "  - Code to load, standardize, and apply PCA, t-SNE, and UMAP to the Wine dataset.\n",
        "  - Scatter plots for each method using either Plotly Express or Seaborn `relplot`, with each plot showing the two-dimensional projection of the data.\n",
        "  - A brief analysis of which technique produced the clearest clusters and a discussion on the computation time for each method.\n"
      ],
      "metadata": {
        "id": "4wE71NCFOcWC"
      }
    },
    {
      "cell_type": "code",
      "source": [
        "!pip install umap-learn"
      ],
      "metadata": {
        "colab": {
          "base_uri": "https://localhost:8080/"
        },
        "id": "cYsAIEcADCZb",
        "outputId": "e014e52d-dbb4-4197-c063-214b48a7f55e"
      },
      "execution_count": 10,
      "outputs": [
        {
          "output_type": "stream",
          "name": "stdout",
          "text": [
            "Collecting umap-learn\n",
            "  Downloading umap_learn-0.5.7-py3-none-any.whl.metadata (21 kB)\n",
            "Requirement already satisfied: numpy>=1.17 in /usr/local/lib/python3.10/dist-packages (from umap-learn) (1.26.4)\n",
            "Requirement already satisfied: scipy>=1.3.1 in /usr/local/lib/python3.10/dist-packages (from umap-learn) (1.13.1)\n",
            "Requirement already satisfied: scikit-learn>=0.22 in /usr/local/lib/python3.10/dist-packages (from umap-learn) (1.5.2)\n",
            "Requirement already satisfied: numba>=0.51.2 in /usr/local/lib/python3.10/dist-packages (from umap-learn) (0.60.0)\n",
            "Collecting pynndescent>=0.5 (from umap-learn)\n",
            "  Downloading pynndescent-0.5.13-py3-none-any.whl.metadata (6.8 kB)\n",
            "Requirement already satisfied: tqdm in /usr/local/lib/python3.10/dist-packages (from umap-learn) (4.66.6)\n",
            "Requirement already satisfied: llvmlite<0.44,>=0.43.0dev0 in /usr/local/lib/python3.10/dist-packages (from numba>=0.51.2->umap-learn) (0.43.0)\n",
            "Requirement already satisfied: joblib>=0.11 in /usr/local/lib/python3.10/dist-packages (from pynndescent>=0.5->umap-learn) (1.4.2)\n",
            "Requirement already satisfied: threadpoolctl>=3.1.0 in /usr/local/lib/python3.10/dist-packages (from scikit-learn>=0.22->umap-learn) (3.5.0)\n",
            "Downloading umap_learn-0.5.7-py3-none-any.whl (88 kB)\n",
            "\u001b[2K   \u001b[90m━━━━━━━━━━━━━━━━━━━━━━━━━━━━━━━━━━━━━━━━\u001b[0m \u001b[32m88.8/88.8 kB\u001b[0m \u001b[31m3.8 MB/s\u001b[0m eta \u001b[36m0:00:00\u001b[0m\n",
            "\u001b[?25hDownloading pynndescent-0.5.13-py3-none-any.whl (56 kB)\n",
            "\u001b[2K   \u001b[90m━━━━━━━━━━━━━━━━━━━━━━━━━━━━━━━━━━━━━━━━\u001b[0m \u001b[32m56.9/56.9 kB\u001b[0m \u001b[31m5.0 MB/s\u001b[0m eta \u001b[36m0:00:00\u001b[0m\n",
            "\u001b[?25hInstalling collected packages: pynndescent, umap-learn\n",
            "Successfully installed pynndescent-0.5.13 umap-learn-0.5.7\n"
          ]
        }
      ]
    },
    {
      "cell_type": "code",
      "source": [
        "# Your code here . . .\n",
        "import time\n",
        "from sklearn.datasets import load_wine\n",
        "from sklearn.preprocessing import StandardScaler\n",
        "from sklearn.decomposition import PCA\n",
        "from sklearn.manifold import TSNE\n",
        "from umap import UMAP\n",
        "import plotly.express as px\n",
        "\n",
        "wine = load_wine()\n",
        "X = wine.data  # Features\n",
        "y = wine.target  # Labels\n",
        "target_names = wine.target_names # Wine Cultivars (class_0, class_1, class_2)\n"
      ],
      "metadata": {
        "id": "X44b7-3vpd4b"
      },
      "execution_count": 17,
      "outputs": []
    },
    {
      "cell_type": "code",
      "source": [
        "scaler = StandardScaler()\n",
        "X_scaled = scaler.fit_transform(X)"
      ],
      "metadata": {
        "id": "mq4Q97s8xh9A"
      },
      "execution_count": 2,
      "outputs": []
    },
    {
      "cell_type": "code",
      "source": [
        "start_time = time.time()\n",
        "\n",
        "pca_2d = PCA(n_components=2)\n",
        "pca_projections = pca_2d.fit_transform(X_scaled)\n",
        "\n",
        "end_time = time.time()\n",
        "\n",
        "print(f\"PCA execution time: {end_time - start_time:.4f} seconds\")\n",
        "\n",
        "# Plot the PCA projections\n",
        "fig = px.scatter(\n",
        "    pca_projections, x=pca_projections[:, 0], y=pca_projections[:, 1],\n",
        "    color=wine.target.astype(str), labels={'color': 'Wine Cultivar'}\n",
        ")\n",
        "fig.update_layout(title=\"PCA Projections of Wine Dataset\")\n",
        "fig.show()\n",
        "\n"
      ],
      "metadata": {
        "colab": {
          "base_uri": "https://localhost:8080/",
          "height": 559
        },
        "id": "xG0qs9KYzSAj",
        "outputId": "04becae5-bb18-461a-ab8e-caa23804a9e1"
      },
      "execution_count": 23,
      "outputs": [
        {
          "output_type": "stream",
          "name": "stdout",
          "text": [
            "PCA execution time: 0.0081 seconds\n"
          ]
        },
        {
          "output_type": "display_data",
          "data": {
            "text/html": [
              "<html>\n",
              "<head><meta charset=\"utf-8\" /></head>\n",
              "<body>\n",
              "    <div>            <script src=\"https://cdnjs.cloudflare.com/ajax/libs/mathjax/2.7.5/MathJax.js?config=TeX-AMS-MML_SVG\"></script><script type=\"text/javascript\">if (window.MathJax && window.MathJax.Hub && window.MathJax.Hub.Config) {window.MathJax.Hub.Config({SVG: {font: \"STIX-Web\"}});}</script>                <script type=\"text/javascript\">window.PlotlyConfig = {MathJaxConfig: 'local'};</script>\n",
              "        <script charset=\"utf-8\" src=\"https://cdn.plot.ly/plotly-2.35.2.min.js\"></script>                <div id=\"5c19d460-3453-40e9-a826-e3a5250a45ea\" class=\"plotly-graph-div\" style=\"height:525px; width:100%;\"></div>            <script type=\"text/javascript\">                                    window.PLOTLYENV=window.PLOTLYENV || {};                                    if (document.getElementById(\"5c19d460-3453-40e9-a826-e3a5250a45ea\")) {                    Plotly.newPlot(                        \"5c19d460-3453-40e9-a826-e3a5250a45ea\",                        [{\"hovertemplate\":\"Wine Cultivar=0\\u003cbr\\u003ex=%{x}\\u003cbr\\u003ey=%{y}\\u003cextra\\u003e\\u003c\\u002fextra\\u003e\",\"legendgroup\":\"0\",\"marker\":{\"color\":\"#636efa\",\"symbol\":\"circle\"},\"mode\":\"markers\",\"name\":\"0\",\"orientation\":\"v\",\"showlegend\":true,\"x\":[3.3167508122147784,2.2094649169188476,2.5167401466103843,3.7570656097732082,1.008908493795717,3.0502539224180807,2.4490896695962303,2.0594368714379145,2.510874297398989,2.7536281876339097,3.479736682731212,1.7547529012945888,2.1134623403150954,3.458156819336723,4.312783906765563,2.305188200827973,2.1719552737415135,1.8989711765627622,3.5419850819434697,2.084522204730313,3.1244025351672007,1.0865700683322408,2.535224079903715,1.64498834125447,1.761575872269301,0.9900791016088576,1.7752776281133693,1.2354239643099056,2.1884063344519626,2.2561089812837074,2.5002200257894267,2.677411047444016,1.628579116430919,1.9026908622381487,1.410388526595407,1.903826232194487,1.3848622303748397,1.1222074104413107,1.5021945006181914,2.5298010923718115,2.5880954258544038,0.6684819937541866,3.070806990412009,0.4622091375160075,2.101351930538016,1.1361661775610186,2.726600963640804,2.8213392741922494,2.0098508509123594,2.7074913042663944,3.2149174747738236,2.8589598267172938,3.5056043559232255,2.224791380532174,2.146987823563867,2.4693294837977886,2.7415179142774533,2.1737409209653085,3.139380151828997],\"xaxis\":\"x\",\"y\":[1.443462634318008,-0.3333928870803022,1.0311512962743203,2.7563719137107117,0.8698308214172055,2.12240111463419,1.1748501316494726,1.6089630683635066,0.9180709573337746,0.7894376738336053,1.3023332371235934,0.6119772287456294,0.6757063391426174,1.1306298761729356,2.0959755753412606,1.6625517299890549,2.3273053361914195,1.631368878642838,2.518343669306645,1.0611379935838594,0.7868971056508944,0.2417435513328402,-0.09184062072088205,-0.5162789300672357,-0.3171489326843819,0.9406673381906361,0.6861751342850231,-0.0898070413606412,0.6895696206616239,0.1914619368866636,1.2408338348969432,1.4718736461032487,0.05270445057532251,1.6330604347699829,0.6979343246113563,0.17671095109545581,0.6586398536611486,0.11410976029688759,-0.7694320064310102,1.8030019760618277,0.7796163041925076,0.16996094061987443,1.1559189566098822,0.33074213219227483,-0.07100892095406693,1.7771073929776373,1.1913346919571823,0.6462585991417028,1.2470294606787597,1.7519674072063367,0.16699199499678996,0.7452788039895876,1.6127338560350104,1.8751679995630244,1.0167515377576593,1.3290083106496227,1.436548783512514,1.2121998406977939,1.7315791159925125],\"yaxis\":\"y\",\"type\":\"scatter\"},{\"hovertemplate\":\"Wine Cultivar=1\\u003cbr\\u003ex=%{x}\\u003cbr\\u003ey=%{y}\\u003cextra\\u003e\\u003c\\u002fextra\\u003e\",\"legendgroup\":\"1\",\"marker\":{\"color\":\"#EF553B\",\"symbol\":\"circle\"},\"mode\":\"markers\",\"name\":\"1\",\"orientation\":\"v\",\"showlegend\":true,\"x\":[-0.9285819689218574,-1.5424801378968818,-1.836249763466941,0.030606834086678362,2.050261607576316,-0.6096808271776233,0.9002278387071435,2.248507190798394,0.18338402668475415,-0.8128050273520723,1.975620498798553,-1.5722162196263008,1.6576818088332894,-0.7253723880353568,2.5622271731703625,1.832567570049548,-0.8679929031954139,0.37001440429478105,-1.4573770449061398,1.2629308497284977,0.37615037193424145,0.7620639041095977,1.0345779671651865,-0.4948767556803281,-2.5389770842951203,0.8353201453942973,0.7879046149897087,-0.8068321559655391,-0.5580426248756827,-1.1151110419194465,-0.5557228299517022,-1.3492852824437314,-1.5644826057199068,-1.9325556106314645,0.7466659419884496,0.9574553638036406,2.5438651841995537,-0.5439525887762288,1.031049750388148,2.251909422148125,1.41021601533746,0.7977197926930399,-0.549531726649466,-0.1611737399485452,-0.6597949416843611,0.3923544081850815,-1.772499077960035,-0.36626735735206556,-1.62067257278748,0.08253578349332687,1.5782750709323823,1.4205692478240175,-0.2787027536488551,-1.3031449662482804,-0.4570718656526246,-0.49418584704437535,0.48207440977309296,-0.25288887765320117,-0.10722763772912448,-2.4330126025502192,-0.5510895391746515,0.7396219285682223,1.3363217334183315,-1.1770869962477721,-0.46233500801967864,0.9784740793566489,-0.09680972631598592,0.03848714594902496,-1.5971585012074707,-0.47956491608312596,-1.792833473031144],\"xaxis\":\"x\",\"y\":[-3.073486163188931,-1.38144350809423,-0.8299841230557191,-1.262786144211405,-1.9250326046501014,-1.9080588050851879,-0.7639114736096088,-1.8845924845501347,-2.427146114703572,-0.22051398690227056,-1.4032832253096141,-0.8849831369082217,-0.9567121974591498,-1.0636454007060954,0.2601985506545986,-1.287878197860525,-2.444101185580865,-2.1539069751569904,-1.3833517690762591,-0.7708495299701165,-1.0270434033558218,-3.375053809963536,-1.4507097382440923,-2.381243526767369,-0.08744335730498203,-1.4736705514008663,-2.0266265224624775,-2.2338303908439117,-2.3729854288494536,-1.8022471916654532,-2.657540035392292,-2.118001469784818,-1.8522145217655503,-1.5594954568986217,-2.3129317092207393,-2.22352843466746,0.16927402279974307,-0.3689265458773144,-2.5655693487335247,-1.4327413803542548,-2.166191769370384,-2.3769488030818624,-2.2931286432456277,-1.1644833215600152,-2.679961185989635,-2.098731708765537,-1.717288469376142,-2.169353297829283,-1.3555833880259567,-2.3062345877483246,-1.4620342902048145,-1.4182066376337472,-1.9305680886704677,-0.7631723136577908,-2.2694156075896736,-1.9390450494868317,-3.8717838484072393,-2.821492374701592,-1.928922042566958,-1.2571410404943941,-2.222161550776621,-1.4089566673657103,0.2533369311683094,-0.663966839801569,-0.6182881794850412,-1.4455704988958247,-2.1099979931352255,-1.266762109157884,-1.208143574128483,-1.9388406603940467,-1.150288104442104],\"yaxis\":\"y\",\"type\":\"scatter\"},{\"hovertemplate\":\"Wine Cultivar=2\\u003cbr\\u003ex=%{x}\\u003cbr\\u003ey=%{y}\\u003cextra\\u003e\\u003c\\u002fextra\\u003e\",\"legendgroup\":\"2\",\"marker\":{\"color\":\"#00cc96\",\"symbol\":\"circle\"},\"mode\":\"markers\",\"name\":\"2\",\"orientation\":\"v\",\"showlegend\":true,\"x\":[-1.3271016561416022,-2.3845008347435313,-2.936940102146614,-2.1468111338160645,-2.369869488333043,-3.063841568720355,-3.91575378371189,-3.9364633907159625,-3.0942761177622757,-2.3744716280069222,-2.778812947632515,-2.2865612847384704,-2.985633487449466,-2.3751946982271086,-2.209865525595872,-2.625621004692722,-4.280638778751087,-3.582641372001105,-2.8070637200816586,-2.899659333023912,-2.3207369765492043,-2.5498309472261367,-1.812541284842298,-2.7601446419239504,-2.7371505006679917,-3.6048688681834244,-2.889825996873507,-3.392156076835721,-1.0481818968536765,-1.6099122828479344,-3.1431309667439744,-2.2401568962695437,-2.8476737761195197,-2.597497056648765,-2.9492993731348456,-3.5300322663493118,-2.406110540478552,-2.9290847269674556,-2.1814127788126205,-2.3809277871356382,-3.2116172150412488,-3.6779187209738176,-2.465555798040449,-3.370524145442861,-2.601955851224737,-2.677839460864502,-2.38701709127972,-3.2087581641980214],\"xaxis\":\"x\",\"y\":[0.17038923204902834,0.37458260552469375,0.2638618300683811,0.3682549518864616,-0.45963480923116645,0.35341283545840274,0.15458251944173323,0.6596872334097837,0.3488427592737949,0.29198035155999463,0.28680487288217466,0.37250784468529785,0.4892179083470121,0.4823337172448767,1.1600525041576437,0.5631607642108348,0.6496709640237048,1.2727027497273011,1.5705337870411975,2.0410570079384653,2.3563660755566755,2.045283091019525,1.5276459462687526,2.138932347642612,0.40988627088179125,1.8023842175839673,1.925218613130342,1.3118763884735973,3.5150896912197314,2.406638159574329,0.7381610441757984,1.1754652881188634,0.5560439658826742,0.6979655372009196,1.5553089642839826,0.8825267962042354,2.592356175042398,1.2744469479044813,2.077537312734516,2.588667432418592,-0.25124910442559106,0.8477478441497629,2.1937983036540927,2.216289139861136,1.7572293509792754,2.760899131674546,2.29734667971282,2.768919566047575],\"yaxis\":\"y\",\"type\":\"scatter\"}],                        {\"template\":{\"data\":{\"histogram2dcontour\":[{\"type\":\"histogram2dcontour\",\"colorbar\":{\"outlinewidth\":0,\"ticks\":\"\"},\"colorscale\":[[0.0,\"#0d0887\"],[0.1111111111111111,\"#46039f\"],[0.2222222222222222,\"#7201a8\"],[0.3333333333333333,\"#9c179e\"],[0.4444444444444444,\"#bd3786\"],[0.5555555555555556,\"#d8576b\"],[0.6666666666666666,\"#ed7953\"],[0.7777777777777778,\"#fb9f3a\"],[0.8888888888888888,\"#fdca26\"],[1.0,\"#f0f921\"]]}],\"choropleth\":[{\"type\":\"choropleth\",\"colorbar\":{\"outlinewidth\":0,\"ticks\":\"\"}}],\"histogram2d\":[{\"type\":\"histogram2d\",\"colorbar\":{\"outlinewidth\":0,\"ticks\":\"\"},\"colorscale\":[[0.0,\"#0d0887\"],[0.1111111111111111,\"#46039f\"],[0.2222222222222222,\"#7201a8\"],[0.3333333333333333,\"#9c179e\"],[0.4444444444444444,\"#bd3786\"],[0.5555555555555556,\"#d8576b\"],[0.6666666666666666,\"#ed7953\"],[0.7777777777777778,\"#fb9f3a\"],[0.8888888888888888,\"#fdca26\"],[1.0,\"#f0f921\"]]}],\"heatmap\":[{\"type\":\"heatmap\",\"colorbar\":{\"outlinewidth\":0,\"ticks\":\"\"},\"colorscale\":[[0.0,\"#0d0887\"],[0.1111111111111111,\"#46039f\"],[0.2222222222222222,\"#7201a8\"],[0.3333333333333333,\"#9c179e\"],[0.4444444444444444,\"#bd3786\"],[0.5555555555555556,\"#d8576b\"],[0.6666666666666666,\"#ed7953\"],[0.7777777777777778,\"#fb9f3a\"],[0.8888888888888888,\"#fdca26\"],[1.0,\"#f0f921\"]]}],\"heatmapgl\":[{\"type\":\"heatmapgl\",\"colorbar\":{\"outlinewidth\":0,\"ticks\":\"\"},\"colorscale\":[[0.0,\"#0d0887\"],[0.1111111111111111,\"#46039f\"],[0.2222222222222222,\"#7201a8\"],[0.3333333333333333,\"#9c179e\"],[0.4444444444444444,\"#bd3786\"],[0.5555555555555556,\"#d8576b\"],[0.6666666666666666,\"#ed7953\"],[0.7777777777777778,\"#fb9f3a\"],[0.8888888888888888,\"#fdca26\"],[1.0,\"#f0f921\"]]}],\"contourcarpet\":[{\"type\":\"contourcarpet\",\"colorbar\":{\"outlinewidth\":0,\"ticks\":\"\"}}],\"contour\":[{\"type\":\"contour\",\"colorbar\":{\"outlinewidth\":0,\"ticks\":\"\"},\"colorscale\":[[0.0,\"#0d0887\"],[0.1111111111111111,\"#46039f\"],[0.2222222222222222,\"#7201a8\"],[0.3333333333333333,\"#9c179e\"],[0.4444444444444444,\"#bd3786\"],[0.5555555555555556,\"#d8576b\"],[0.6666666666666666,\"#ed7953\"],[0.7777777777777778,\"#fb9f3a\"],[0.8888888888888888,\"#fdca26\"],[1.0,\"#f0f921\"]]}],\"surface\":[{\"type\":\"surface\",\"colorbar\":{\"outlinewidth\":0,\"ticks\":\"\"},\"colorscale\":[[0.0,\"#0d0887\"],[0.1111111111111111,\"#46039f\"],[0.2222222222222222,\"#7201a8\"],[0.3333333333333333,\"#9c179e\"],[0.4444444444444444,\"#bd3786\"],[0.5555555555555556,\"#d8576b\"],[0.6666666666666666,\"#ed7953\"],[0.7777777777777778,\"#fb9f3a\"],[0.8888888888888888,\"#fdca26\"],[1.0,\"#f0f921\"]]}],\"mesh3d\":[{\"type\":\"mesh3d\",\"colorbar\":{\"outlinewidth\":0,\"ticks\":\"\"}}],\"scatter\":[{\"fillpattern\":{\"fillmode\":\"overlay\",\"size\":10,\"solidity\":0.2},\"type\":\"scatter\"}],\"parcoords\":[{\"type\":\"parcoords\",\"line\":{\"colorbar\":{\"outlinewidth\":0,\"ticks\":\"\"}}}],\"scatterpolargl\":[{\"type\":\"scatterpolargl\",\"marker\":{\"colorbar\":{\"outlinewidth\":0,\"ticks\":\"\"}}}],\"bar\":[{\"error_x\":{\"color\":\"#2a3f5f\"},\"error_y\":{\"color\":\"#2a3f5f\"},\"marker\":{\"line\":{\"color\":\"#E5ECF6\",\"width\":0.5},\"pattern\":{\"fillmode\":\"overlay\",\"size\":10,\"solidity\":0.2}},\"type\":\"bar\"}],\"scattergeo\":[{\"type\":\"scattergeo\",\"marker\":{\"colorbar\":{\"outlinewidth\":0,\"ticks\":\"\"}}}],\"scatterpolar\":[{\"type\":\"scatterpolar\",\"marker\":{\"colorbar\":{\"outlinewidth\":0,\"ticks\":\"\"}}}],\"histogram\":[{\"marker\":{\"pattern\":{\"fillmode\":\"overlay\",\"size\":10,\"solidity\":0.2}},\"type\":\"histogram\"}],\"scattergl\":[{\"type\":\"scattergl\",\"marker\":{\"colorbar\":{\"outlinewidth\":0,\"ticks\":\"\"}}}],\"scatter3d\":[{\"type\":\"scatter3d\",\"line\":{\"colorbar\":{\"outlinewidth\":0,\"ticks\":\"\"}},\"marker\":{\"colorbar\":{\"outlinewidth\":0,\"ticks\":\"\"}}}],\"scattermapbox\":[{\"type\":\"scattermapbox\",\"marker\":{\"colorbar\":{\"outlinewidth\":0,\"ticks\":\"\"}}}],\"scatterternary\":[{\"type\":\"scatterternary\",\"marker\":{\"colorbar\":{\"outlinewidth\":0,\"ticks\":\"\"}}}],\"scattercarpet\":[{\"type\":\"scattercarpet\",\"marker\":{\"colorbar\":{\"outlinewidth\":0,\"ticks\":\"\"}}}],\"carpet\":[{\"aaxis\":{\"endlinecolor\":\"#2a3f5f\",\"gridcolor\":\"white\",\"linecolor\":\"white\",\"minorgridcolor\":\"white\",\"startlinecolor\":\"#2a3f5f\"},\"baxis\":{\"endlinecolor\":\"#2a3f5f\",\"gridcolor\":\"white\",\"linecolor\":\"white\",\"minorgridcolor\":\"white\",\"startlinecolor\":\"#2a3f5f\"},\"type\":\"carpet\"}],\"table\":[{\"cells\":{\"fill\":{\"color\":\"#EBF0F8\"},\"line\":{\"color\":\"white\"}},\"header\":{\"fill\":{\"color\":\"#C8D4E3\"},\"line\":{\"color\":\"white\"}},\"type\":\"table\"}],\"barpolar\":[{\"marker\":{\"line\":{\"color\":\"#E5ECF6\",\"width\":0.5},\"pattern\":{\"fillmode\":\"overlay\",\"size\":10,\"solidity\":0.2}},\"type\":\"barpolar\"}],\"pie\":[{\"automargin\":true,\"type\":\"pie\"}]},\"layout\":{\"autotypenumbers\":\"strict\",\"colorway\":[\"#636efa\",\"#EF553B\",\"#00cc96\",\"#ab63fa\",\"#FFA15A\",\"#19d3f3\",\"#FF6692\",\"#B6E880\",\"#FF97FF\",\"#FECB52\"],\"font\":{\"color\":\"#2a3f5f\"},\"hovermode\":\"closest\",\"hoverlabel\":{\"align\":\"left\"},\"paper_bgcolor\":\"white\",\"plot_bgcolor\":\"#E5ECF6\",\"polar\":{\"bgcolor\":\"#E5ECF6\",\"angularaxis\":{\"gridcolor\":\"white\",\"linecolor\":\"white\",\"ticks\":\"\"},\"radialaxis\":{\"gridcolor\":\"white\",\"linecolor\":\"white\",\"ticks\":\"\"}},\"ternary\":{\"bgcolor\":\"#E5ECF6\",\"aaxis\":{\"gridcolor\":\"white\",\"linecolor\":\"white\",\"ticks\":\"\"},\"baxis\":{\"gridcolor\":\"white\",\"linecolor\":\"white\",\"ticks\":\"\"},\"caxis\":{\"gridcolor\":\"white\",\"linecolor\":\"white\",\"ticks\":\"\"}},\"coloraxis\":{\"colorbar\":{\"outlinewidth\":0,\"ticks\":\"\"}},\"colorscale\":{\"sequential\":[[0.0,\"#0d0887\"],[0.1111111111111111,\"#46039f\"],[0.2222222222222222,\"#7201a8\"],[0.3333333333333333,\"#9c179e\"],[0.4444444444444444,\"#bd3786\"],[0.5555555555555556,\"#d8576b\"],[0.6666666666666666,\"#ed7953\"],[0.7777777777777778,\"#fb9f3a\"],[0.8888888888888888,\"#fdca26\"],[1.0,\"#f0f921\"]],\"sequentialminus\":[[0.0,\"#0d0887\"],[0.1111111111111111,\"#46039f\"],[0.2222222222222222,\"#7201a8\"],[0.3333333333333333,\"#9c179e\"],[0.4444444444444444,\"#bd3786\"],[0.5555555555555556,\"#d8576b\"],[0.6666666666666666,\"#ed7953\"],[0.7777777777777778,\"#fb9f3a\"],[0.8888888888888888,\"#fdca26\"],[1.0,\"#f0f921\"]],\"diverging\":[[0,\"#8e0152\"],[0.1,\"#c51b7d\"],[0.2,\"#de77ae\"],[0.3,\"#f1b6da\"],[0.4,\"#fde0ef\"],[0.5,\"#f7f7f7\"],[0.6,\"#e6f5d0\"],[0.7,\"#b8e186\"],[0.8,\"#7fbc41\"],[0.9,\"#4d9221\"],[1,\"#276419\"]]},\"xaxis\":{\"gridcolor\":\"white\",\"linecolor\":\"white\",\"ticks\":\"\",\"title\":{\"standoff\":15},\"zerolinecolor\":\"white\",\"automargin\":true,\"zerolinewidth\":2},\"yaxis\":{\"gridcolor\":\"white\",\"linecolor\":\"white\",\"ticks\":\"\",\"title\":{\"standoff\":15},\"zerolinecolor\":\"white\",\"automargin\":true,\"zerolinewidth\":2},\"scene\":{\"xaxis\":{\"backgroundcolor\":\"#E5ECF6\",\"gridcolor\":\"white\",\"linecolor\":\"white\",\"showbackground\":true,\"ticks\":\"\",\"zerolinecolor\":\"white\",\"gridwidth\":2},\"yaxis\":{\"backgroundcolor\":\"#E5ECF6\",\"gridcolor\":\"white\",\"linecolor\":\"white\",\"showbackground\":true,\"ticks\":\"\",\"zerolinecolor\":\"white\",\"gridwidth\":2},\"zaxis\":{\"backgroundcolor\":\"#E5ECF6\",\"gridcolor\":\"white\",\"linecolor\":\"white\",\"showbackground\":true,\"ticks\":\"\",\"zerolinecolor\":\"white\",\"gridwidth\":2}},\"shapedefaults\":{\"line\":{\"color\":\"#2a3f5f\"}},\"annotationdefaults\":{\"arrowcolor\":\"#2a3f5f\",\"arrowhead\":0,\"arrowwidth\":1},\"geo\":{\"bgcolor\":\"white\",\"landcolor\":\"#E5ECF6\",\"subunitcolor\":\"white\",\"showland\":true,\"showlakes\":true,\"lakecolor\":\"white\"},\"title\":{\"x\":0.05},\"mapbox\":{\"style\":\"light\"}}},\"xaxis\":{\"anchor\":\"y\",\"domain\":[0.0,1.0],\"title\":{\"text\":\"x\"}},\"yaxis\":{\"anchor\":\"x\",\"domain\":[0.0,1.0],\"title\":{\"text\":\"y\"}},\"legend\":{\"title\":{\"text\":\"Wine Cultivar\"},\"tracegroupgap\":0},\"margin\":{\"t\":60},\"title\":{\"text\":\"PCA Projections of Wine Dataset\"}},                        {\"responsive\": true}                    ).then(function(){\n",
              "                            \n",
              "var gd = document.getElementById('5c19d460-3453-40e9-a826-e3a5250a45ea');\n",
              "var x = new MutationObserver(function (mutations, observer) {{\n",
              "        var display = window.getComputedStyle(gd).display;\n",
              "        if (!display || display === 'none') {{\n",
              "            console.log([gd, 'removed!']);\n",
              "            Plotly.purge(gd);\n",
              "            observer.disconnect();\n",
              "        }}\n",
              "}});\n",
              "\n",
              "// Listen for the removal of the full notebook cells\n",
              "var notebookContainer = gd.closest('#notebook-container');\n",
              "if (notebookContainer) {{\n",
              "    x.observe(notebookContainer, {childList: true});\n",
              "}}\n",
              "\n",
              "// Listen for the clearing of the current output cell\n",
              "var outputEl = gd.closest('.output');\n",
              "if (outputEl) {{\n",
              "    x.observe(outputEl, {childList: true});\n",
              "}}\n",
              "\n",
              "                        })                };                            </script>        </div>\n",
              "</body>\n",
              "</html>"
            ]
          },
          "metadata": {}
        }
      ]
    },
    {
      "cell_type": "code",
      "source": [
        "start_time = time.time()\n",
        "# Applying t-SNe to reduce dimensions to 2\n",
        "tsne_2d = TSNE(n_components=2, perplexity=47, random_state=42)\n",
        "\n",
        "# Creating 2D projection of wine data\n",
        "tsne_projections = tsne_2d.fit_transform(X_scaled)\n",
        "end_time = time.time()\n",
        "\n",
        "print(f\"t-SNE execution time: {end_time - start_time:.4f} seconds\")\n",
        "\n",
        "# Plot the t-SNE projections\n",
        "fig = px.scatter(\n",
        "    tsne_projections, x=0, y=1,\n",
        "    color=wine.target.astype(str), labels={'color': 'Wine Cultivar'}\n",
        ")\n",
        "fig.update_layout(title=\"t-SNE Projections of Wine Dataset\")\n",
        "fig.show()\n"
      ],
      "metadata": {
        "colab": {
          "base_uri": "https://localhost:8080/",
          "height": 559
        },
        "id": "7lItVB5xBlcN",
        "outputId": "10d7f9f7-cc45-4b75-bad8-993ae0c06d5e"
      },
      "execution_count": 36,
      "outputs": [
        {
          "output_type": "stream",
          "name": "stdout",
          "text": [
            "t-SNE execution time: 2.2974 seconds\n"
          ]
        },
        {
          "output_type": "display_data",
          "data": {
            "text/html": [
              "<html>\n",
              "<head><meta charset=\"utf-8\" /></head>\n",
              "<body>\n",
              "    <div>            <script src=\"https://cdnjs.cloudflare.com/ajax/libs/mathjax/2.7.5/MathJax.js?config=TeX-AMS-MML_SVG\"></script><script type=\"text/javascript\">if (window.MathJax && window.MathJax.Hub && window.MathJax.Hub.Config) {window.MathJax.Hub.Config({SVG: {font: \"STIX-Web\"}});}</script>                <script type=\"text/javascript\">window.PlotlyConfig = {MathJaxConfig: 'local'};</script>\n",
              "        <script charset=\"utf-8\" src=\"https://cdn.plot.ly/plotly-2.35.2.min.js\"></script>                <div id=\"1dc3be0b-e131-4a42-a099-039c4ebadd42\" class=\"plotly-graph-div\" style=\"height:525px; width:100%;\"></div>            <script type=\"text/javascript\">                                    window.PLOTLYENV=window.PLOTLYENV || {};                                    if (document.getElementById(\"1dc3be0b-e131-4a42-a099-039c4ebadd42\")) {                    Plotly.newPlot(                        \"1dc3be0b-e131-4a42-a099-039c4ebadd42\",                        [{\"hovertemplate\":\"Wine Cultivar=0\\u003cbr\\u003e0=%{x}\\u003cbr\\u003e1=%{y}\\u003cextra\\u003e\\u003c\\u002fextra\\u003e\",\"legendgroup\":\"0\",\"marker\":{\"color\":\"#636efa\",\"symbol\":\"circle\"},\"mode\":\"markers\",\"name\":\"0\",\"orientation\":\"v\",\"showlegend\":true,\"x\":[3.6594725,1.8928126,4.7259836,5.047464,4.684181,5.0515075,3.4479506,4.6298428,3.1388102,3.3727095,4.990918,2.9863005,3.513148,5.0569625,5.2715206,5.0106244,5.398093,5.284508,5.679881,2.7493742,3.3120217,2.7542644,2.828661,2.6464927,3.048571,5.0601587,3.6968296,2.0859954,4.56407,2.8152092,5.480612,4.92441,3.259631,5.5925665,3.9284575,3.1217093,4.1928196,3.1615448,1.696743,2.8856614,3.3565626,2.2262728,3.83382,2.3344953,2.33068,3.4098105,3.617069,3.0400126,4.224812,4.75004,1.8927464,4.03658,4.557298,5.047863,2.9871514,4.553298,3.656546,4.420018,4.5302505],\"xaxis\":\"x\",\"y\":[-11.087629,-9.179838,-9.216956,-10.758143,-6.739943,-10.213183,-9.3518715,-8.091407,-9.8103895,-9.907711,-9.930881,-8.821927,-8.974493,-11.6437,-11.247817,-8.536992,-8.693263,-8.40157,-10.187385,-10.686081,-11.036889,-6.6961584,-8.878165,-7.860815,-7.5629244,-6.2146425,-8.439384,-8.45463,-7.5692077,-9.32828,-8.9962435,-9.6228895,-8.346245,-7.793861,-7.8842025,-8.206053,-7.59279,-7.897954,-8.416154,-11.512302,-10.744977,-6.986929,-10.173216,-6.6366777,-9.793142,-7.034522,-10.517251,-10.184995,-9.412841,-10.123396,-10.712064,-9.112264,-10.845001,-8.567697,-10.064024,-9.566695,-10.564797,-8.667123,-10.310812],\"yaxis\":\"y\",\"type\":\"scatter\"},{\"hovertemplate\":\"Wine Cultivar=1\\u003cbr\\u003e0=%{x}\\u003cbr\\u003e1=%{y}\\u003cextra\\u003e\\u003c\\u002fextra\\u003e\",\"legendgroup\":\"1\",\"marker\":{\"color\":\"#EF553B\",\"symbol\":\"circle\"},\"mode\":\"markers\",\"name\":\"1\",\"orientation\":\"v\",\"showlegend\":true,\"x\":[-3.3678648,-3.5323465,-3.2693453,-2.533701,-0.2629348,-2.988514,1.1626338,-1.054687,-1.8123538,-3.6221435,-0.5641336,-1.434405,3.2124012,-1.8949243,5.677322,0.46358112,-2.6839573,-2.2779357,-1.885149,-0.540283,0.91613364,-1.5701466,-0.6139483,-2.133051,-4.3003135,0.80144656,-1.1721622,-2.2510085,-2.3006887,-1.4905435,-1.6018716,-1.948131,-1.7940133,-1.9081539,-0.48270193,-0.28214735,-0.4668273,0.110475905,-1.3033051,-0.121499956,-3.4336514,-1.8925941,-2.149363,0.053735763,-1.5163491,-1.3161724,-1.2071396,-1.5348405,-1.6359035,-0.9647128,0.98512375,-0.32810196,-0.5307411,-3.102168,-1.5583974,-0.79893553,-3.281815,-1.3861114,-1.0445677,-2.2119002,-0.8665358,0.5742474,4.987016,0.7590684,1.7236016,1.5439771,-0.40575826,0.022393154,-0.49007145,-0.6611058,-0.007367854],\"xaxis\":\"x\",\"y\":[-6.4695325,-1.1909295,-0.7095313,-6.3421226,-7.0562778,-2.8826923,-6.308706,-7.5817795,-5.719526,-1.0555137,-10.395367,-0.5200486,-5.5420337,-4.352703,-6.512254,-6.912581,-5.51318,-6.474267,-1.1496067,-10.386782,-3.6419451,-5.9889407,-6.0998287,-3.424852,1.5422324,-5.5205398,-5.864038,-3.28187,-3.3891828,-2.95658,-3.6687205,-2.524705,-2.633073,-2.040916,-5.6029935,-6.255205,-10.461953,0.59228843,-6.3283587,-7.2855263,-5.090457,-6.3737364,-5.371165,-4.2858615,-4.9576287,-5.338072,-2.1515663,-4.779074,-2.315621,-5.073927,-5.556363,-8.258465,-4.6892934,-2.3023279,-3.4427109,-3.6332734,-4.1366925,-4.957564,-4.3061533,0.16266899,-4.6919475,-5.055314,-5.512381,-2.9601452,-4.0926733,-4.641214,-4.4935327,-4.3859067,-2.4063423,-3.796437,-2.6288404],\"yaxis\":\"y\",\"type\":\"scatter\"},{\"hovertemplate\":\"Wine Cultivar=2\\u003cbr\\u003e0=%{x}\\u003cbr\\u003e1=%{y}\\u003cextra\\u003e\\u003c\\u002fextra\\u003e\",\"legendgroup\":\"2\",\"marker\":{\"color\":\"#00cc96\",\"symbol\":\"circle\"},\"mode\":\"markers\",\"name\":\"2\",\"orientation\":\"v\",\"showlegend\":true,\"x\":[-0.55992156,-1.2007792,-1.2190458,-0.9555848,-2.9307797,-2.8555155,-4.4028015,-4.738738,-3.4037733,-3.8530147,-3.5687413,-2.4415245,-3.8225327,-3.954438,-1.5393106,-2.4926214,-4.3242507,-3.4295807,-2.8271785,-1.63669,-0.9454725,-1.1559223,-0.7190247,-3.0434656,-2.3023703,-3.8265026,-3.2097707,-4.453865,-2.787399,-2.8009472,-3.2422507,-3.4354937,-3.7137723,-2.2267509,-2.5006223,-3.6876578,-2.1573055,-2.4468777,-1.9752748,-1.3120804,-2.1373792,-2.4799545,-2.7150755,-3.801902,-2.799098,-2.0240545,-2.2761652,-3.4175613],\"xaxis\":\"x\",\"y\":[1.2215993,1.8324913,1.9881074,1.8974117,0.05674523,0.9615283,2.0502114,2.2361398,1.8118535,1.0486722,1.128649,1.5696963,1.1989372,1.985314,2.5048103,1.7942853,2.6683152,2.7321734,3.0097384,3.1789105,3.4706707,3.3447604,3.5682964,3.9909685,1.0031706,3.2251165,3.4231994,3.2874608,5.2263227,5.0678744,2.6177561,1.5228604,1.3019588,1.774757,2.9896953,2.4427712,3.9262114,2.7334306,3.8675487,4.010477,1.4611969,2.437519,3.5479226,3.0724957,3.0695097,3.504776,3.6849675,3.9500253],\"yaxis\":\"y\",\"type\":\"scatter\"}],                        {\"template\":{\"data\":{\"histogram2dcontour\":[{\"type\":\"histogram2dcontour\",\"colorbar\":{\"outlinewidth\":0,\"ticks\":\"\"},\"colorscale\":[[0.0,\"#0d0887\"],[0.1111111111111111,\"#46039f\"],[0.2222222222222222,\"#7201a8\"],[0.3333333333333333,\"#9c179e\"],[0.4444444444444444,\"#bd3786\"],[0.5555555555555556,\"#d8576b\"],[0.6666666666666666,\"#ed7953\"],[0.7777777777777778,\"#fb9f3a\"],[0.8888888888888888,\"#fdca26\"],[1.0,\"#f0f921\"]]}],\"choropleth\":[{\"type\":\"choropleth\",\"colorbar\":{\"outlinewidth\":0,\"ticks\":\"\"}}],\"histogram2d\":[{\"type\":\"histogram2d\",\"colorbar\":{\"outlinewidth\":0,\"ticks\":\"\"},\"colorscale\":[[0.0,\"#0d0887\"],[0.1111111111111111,\"#46039f\"],[0.2222222222222222,\"#7201a8\"],[0.3333333333333333,\"#9c179e\"],[0.4444444444444444,\"#bd3786\"],[0.5555555555555556,\"#d8576b\"],[0.6666666666666666,\"#ed7953\"],[0.7777777777777778,\"#fb9f3a\"],[0.8888888888888888,\"#fdca26\"],[1.0,\"#f0f921\"]]}],\"heatmap\":[{\"type\":\"heatmap\",\"colorbar\":{\"outlinewidth\":0,\"ticks\":\"\"},\"colorscale\":[[0.0,\"#0d0887\"],[0.1111111111111111,\"#46039f\"],[0.2222222222222222,\"#7201a8\"],[0.3333333333333333,\"#9c179e\"],[0.4444444444444444,\"#bd3786\"],[0.5555555555555556,\"#d8576b\"],[0.6666666666666666,\"#ed7953\"],[0.7777777777777778,\"#fb9f3a\"],[0.8888888888888888,\"#fdca26\"],[1.0,\"#f0f921\"]]}],\"heatmapgl\":[{\"type\":\"heatmapgl\",\"colorbar\":{\"outlinewidth\":0,\"ticks\":\"\"},\"colorscale\":[[0.0,\"#0d0887\"],[0.1111111111111111,\"#46039f\"],[0.2222222222222222,\"#7201a8\"],[0.3333333333333333,\"#9c179e\"],[0.4444444444444444,\"#bd3786\"],[0.5555555555555556,\"#d8576b\"],[0.6666666666666666,\"#ed7953\"],[0.7777777777777778,\"#fb9f3a\"],[0.8888888888888888,\"#fdca26\"],[1.0,\"#f0f921\"]]}],\"contourcarpet\":[{\"type\":\"contourcarpet\",\"colorbar\":{\"outlinewidth\":0,\"ticks\":\"\"}}],\"contour\":[{\"type\":\"contour\",\"colorbar\":{\"outlinewidth\":0,\"ticks\":\"\"},\"colorscale\":[[0.0,\"#0d0887\"],[0.1111111111111111,\"#46039f\"],[0.2222222222222222,\"#7201a8\"],[0.3333333333333333,\"#9c179e\"],[0.4444444444444444,\"#bd3786\"],[0.5555555555555556,\"#d8576b\"],[0.6666666666666666,\"#ed7953\"],[0.7777777777777778,\"#fb9f3a\"],[0.8888888888888888,\"#fdca26\"],[1.0,\"#f0f921\"]]}],\"surface\":[{\"type\":\"surface\",\"colorbar\":{\"outlinewidth\":0,\"ticks\":\"\"},\"colorscale\":[[0.0,\"#0d0887\"],[0.1111111111111111,\"#46039f\"],[0.2222222222222222,\"#7201a8\"],[0.3333333333333333,\"#9c179e\"],[0.4444444444444444,\"#bd3786\"],[0.5555555555555556,\"#d8576b\"],[0.6666666666666666,\"#ed7953\"],[0.7777777777777778,\"#fb9f3a\"],[0.8888888888888888,\"#fdca26\"],[1.0,\"#f0f921\"]]}],\"mesh3d\":[{\"type\":\"mesh3d\",\"colorbar\":{\"outlinewidth\":0,\"ticks\":\"\"}}],\"scatter\":[{\"fillpattern\":{\"fillmode\":\"overlay\",\"size\":10,\"solidity\":0.2},\"type\":\"scatter\"}],\"parcoords\":[{\"type\":\"parcoords\",\"line\":{\"colorbar\":{\"outlinewidth\":0,\"ticks\":\"\"}}}],\"scatterpolargl\":[{\"type\":\"scatterpolargl\",\"marker\":{\"colorbar\":{\"outlinewidth\":0,\"ticks\":\"\"}}}],\"bar\":[{\"error_x\":{\"color\":\"#2a3f5f\"},\"error_y\":{\"color\":\"#2a3f5f\"},\"marker\":{\"line\":{\"color\":\"#E5ECF6\",\"width\":0.5},\"pattern\":{\"fillmode\":\"overlay\",\"size\":10,\"solidity\":0.2}},\"type\":\"bar\"}],\"scattergeo\":[{\"type\":\"scattergeo\",\"marker\":{\"colorbar\":{\"outlinewidth\":0,\"ticks\":\"\"}}}],\"scatterpolar\":[{\"type\":\"scatterpolar\",\"marker\":{\"colorbar\":{\"outlinewidth\":0,\"ticks\":\"\"}}}],\"histogram\":[{\"marker\":{\"pattern\":{\"fillmode\":\"overlay\",\"size\":10,\"solidity\":0.2}},\"type\":\"histogram\"}],\"scattergl\":[{\"type\":\"scattergl\",\"marker\":{\"colorbar\":{\"outlinewidth\":0,\"ticks\":\"\"}}}],\"scatter3d\":[{\"type\":\"scatter3d\",\"line\":{\"colorbar\":{\"outlinewidth\":0,\"ticks\":\"\"}},\"marker\":{\"colorbar\":{\"outlinewidth\":0,\"ticks\":\"\"}}}],\"scattermapbox\":[{\"type\":\"scattermapbox\",\"marker\":{\"colorbar\":{\"outlinewidth\":0,\"ticks\":\"\"}}}],\"scatterternary\":[{\"type\":\"scatterternary\",\"marker\":{\"colorbar\":{\"outlinewidth\":0,\"ticks\":\"\"}}}],\"scattercarpet\":[{\"type\":\"scattercarpet\",\"marker\":{\"colorbar\":{\"outlinewidth\":0,\"ticks\":\"\"}}}],\"carpet\":[{\"aaxis\":{\"endlinecolor\":\"#2a3f5f\",\"gridcolor\":\"white\",\"linecolor\":\"white\",\"minorgridcolor\":\"white\",\"startlinecolor\":\"#2a3f5f\"},\"baxis\":{\"endlinecolor\":\"#2a3f5f\",\"gridcolor\":\"white\",\"linecolor\":\"white\",\"minorgridcolor\":\"white\",\"startlinecolor\":\"#2a3f5f\"},\"type\":\"carpet\"}],\"table\":[{\"cells\":{\"fill\":{\"color\":\"#EBF0F8\"},\"line\":{\"color\":\"white\"}},\"header\":{\"fill\":{\"color\":\"#C8D4E3\"},\"line\":{\"color\":\"white\"}},\"type\":\"table\"}],\"barpolar\":[{\"marker\":{\"line\":{\"color\":\"#E5ECF6\",\"width\":0.5},\"pattern\":{\"fillmode\":\"overlay\",\"size\":10,\"solidity\":0.2}},\"type\":\"barpolar\"}],\"pie\":[{\"automargin\":true,\"type\":\"pie\"}]},\"layout\":{\"autotypenumbers\":\"strict\",\"colorway\":[\"#636efa\",\"#EF553B\",\"#00cc96\",\"#ab63fa\",\"#FFA15A\",\"#19d3f3\",\"#FF6692\",\"#B6E880\",\"#FF97FF\",\"#FECB52\"],\"font\":{\"color\":\"#2a3f5f\"},\"hovermode\":\"closest\",\"hoverlabel\":{\"align\":\"left\"},\"paper_bgcolor\":\"white\",\"plot_bgcolor\":\"#E5ECF6\",\"polar\":{\"bgcolor\":\"#E5ECF6\",\"angularaxis\":{\"gridcolor\":\"white\",\"linecolor\":\"white\",\"ticks\":\"\"},\"radialaxis\":{\"gridcolor\":\"white\",\"linecolor\":\"white\",\"ticks\":\"\"}},\"ternary\":{\"bgcolor\":\"#E5ECF6\",\"aaxis\":{\"gridcolor\":\"white\",\"linecolor\":\"white\",\"ticks\":\"\"},\"baxis\":{\"gridcolor\":\"white\",\"linecolor\":\"white\",\"ticks\":\"\"},\"caxis\":{\"gridcolor\":\"white\",\"linecolor\":\"white\",\"ticks\":\"\"}},\"coloraxis\":{\"colorbar\":{\"outlinewidth\":0,\"ticks\":\"\"}},\"colorscale\":{\"sequential\":[[0.0,\"#0d0887\"],[0.1111111111111111,\"#46039f\"],[0.2222222222222222,\"#7201a8\"],[0.3333333333333333,\"#9c179e\"],[0.4444444444444444,\"#bd3786\"],[0.5555555555555556,\"#d8576b\"],[0.6666666666666666,\"#ed7953\"],[0.7777777777777778,\"#fb9f3a\"],[0.8888888888888888,\"#fdca26\"],[1.0,\"#f0f921\"]],\"sequentialminus\":[[0.0,\"#0d0887\"],[0.1111111111111111,\"#46039f\"],[0.2222222222222222,\"#7201a8\"],[0.3333333333333333,\"#9c179e\"],[0.4444444444444444,\"#bd3786\"],[0.5555555555555556,\"#d8576b\"],[0.6666666666666666,\"#ed7953\"],[0.7777777777777778,\"#fb9f3a\"],[0.8888888888888888,\"#fdca26\"],[1.0,\"#f0f921\"]],\"diverging\":[[0,\"#8e0152\"],[0.1,\"#c51b7d\"],[0.2,\"#de77ae\"],[0.3,\"#f1b6da\"],[0.4,\"#fde0ef\"],[0.5,\"#f7f7f7\"],[0.6,\"#e6f5d0\"],[0.7,\"#b8e186\"],[0.8,\"#7fbc41\"],[0.9,\"#4d9221\"],[1,\"#276419\"]]},\"xaxis\":{\"gridcolor\":\"white\",\"linecolor\":\"white\",\"ticks\":\"\",\"title\":{\"standoff\":15},\"zerolinecolor\":\"white\",\"automargin\":true,\"zerolinewidth\":2},\"yaxis\":{\"gridcolor\":\"white\",\"linecolor\":\"white\",\"ticks\":\"\",\"title\":{\"standoff\":15},\"zerolinecolor\":\"white\",\"automargin\":true,\"zerolinewidth\":2},\"scene\":{\"xaxis\":{\"backgroundcolor\":\"#E5ECF6\",\"gridcolor\":\"white\",\"linecolor\":\"white\",\"showbackground\":true,\"ticks\":\"\",\"zerolinecolor\":\"white\",\"gridwidth\":2},\"yaxis\":{\"backgroundcolor\":\"#E5ECF6\",\"gridcolor\":\"white\",\"linecolor\":\"white\",\"showbackground\":true,\"ticks\":\"\",\"zerolinecolor\":\"white\",\"gridwidth\":2},\"zaxis\":{\"backgroundcolor\":\"#E5ECF6\",\"gridcolor\":\"white\",\"linecolor\":\"white\",\"showbackground\":true,\"ticks\":\"\",\"zerolinecolor\":\"white\",\"gridwidth\":2}},\"shapedefaults\":{\"line\":{\"color\":\"#2a3f5f\"}},\"annotationdefaults\":{\"arrowcolor\":\"#2a3f5f\",\"arrowhead\":0,\"arrowwidth\":1},\"geo\":{\"bgcolor\":\"white\",\"landcolor\":\"#E5ECF6\",\"subunitcolor\":\"white\",\"showland\":true,\"showlakes\":true,\"lakecolor\":\"white\"},\"title\":{\"x\":0.05},\"mapbox\":{\"style\":\"light\"}}},\"xaxis\":{\"anchor\":\"y\",\"domain\":[0.0,1.0],\"title\":{\"text\":\"0\"}},\"yaxis\":{\"anchor\":\"x\",\"domain\":[0.0,1.0],\"title\":{\"text\":\"1\"}},\"legend\":{\"title\":{\"text\":\"Wine Cultivar\"},\"tracegroupgap\":0},\"margin\":{\"t\":60},\"title\":{\"text\":\"t-SNE Projections of Wine Dataset\"}},                        {\"responsive\": true}                    ).then(function(){\n",
              "                            \n",
              "var gd = document.getElementById('1dc3be0b-e131-4a42-a099-039c4ebadd42');\n",
              "var x = new MutationObserver(function (mutations, observer) {{\n",
              "        var display = window.getComputedStyle(gd).display;\n",
              "        if (!display || display === 'none') {{\n",
              "            console.log([gd, 'removed!']);\n",
              "            Plotly.purge(gd);\n",
              "            observer.disconnect();\n",
              "        }}\n",
              "}});\n",
              "\n",
              "// Listen for the removal of the full notebook cells\n",
              "var notebookContainer = gd.closest('#notebook-container');\n",
              "if (notebookContainer) {{\n",
              "    x.observe(notebookContainer, {childList: true});\n",
              "}}\n",
              "\n",
              "// Listen for the clearing of the current output cell\n",
              "var outputEl = gd.closest('.output');\n",
              "if (outputEl) {{\n",
              "    x.observe(outputEl, {childList: true});\n",
              "}}\n",
              "\n",
              "                        })                };                            </script>        </div>\n",
              "</body>\n",
              "</html>"
            ]
          },
          "metadata": {}
        }
      ]
    },
    {
      "cell_type": "code",
      "source": [
        "start_time = time.time()\n",
        "# Initialize UMAP with n_neighbors and min_dist parameters\n",
        "umap_2d = UMAP(n_components=2, n_neighbors=9, min_dist=0.1, random_state=42)\n",
        "\n",
        "# Fitting the UMAP model to the wine data\n",
        "umap_2d.fit(X_scaled)\n",
        "\n",
        "umap_projections = umap_2d.transform(X_scaled)\n",
        "\n",
        "end_time = time.time()\n",
        "\n",
        "print(f\"UMAP execution time: {end_time - start_time:.4f} seconds\")\n",
        "\n",
        "# Create scatter plot of projection\n",
        "\n",
        "fig = px.scatter(\n",
        "    umap_projections, x=0, y=1,\n",
        "    color = wine.target.astype(str), labels ={'color': 'Wine Cultivar'}\n",
        ")\n",
        "fig.update_layout(title=\"UMAP Projections of Wine Dataset\")\n",
        "\n",
        "fig.show()"
      ],
      "metadata": {
        "colab": {
          "base_uri": "https://localhost:8080/",
          "height": 629
        },
        "id": "BknxSpKACp1E",
        "outputId": "0f6426c4-2aeb-4f06-db6d-21364540f10e"
      },
      "execution_count": 40,
      "outputs": [
        {
          "output_type": "stream",
          "name": "stderr",
          "text": [
            "/usr/local/lib/python3.10/dist-packages/umap/umap_.py:1952: UserWarning:\n",
            "\n",
            "n_jobs value 1 overridden to 1 by setting random_state. Use no seed for parallelism.\n",
            "\n"
          ]
        },
        {
          "output_type": "stream",
          "name": "stdout",
          "text": [
            "UMAP execution time: 0.9775 seconds\n"
          ]
        },
        {
          "output_type": "display_data",
          "data": {
            "text/html": [
              "<html>\n",
              "<head><meta charset=\"utf-8\" /></head>\n",
              "<body>\n",
              "    <div>            <script src=\"https://cdnjs.cloudflare.com/ajax/libs/mathjax/2.7.5/MathJax.js?config=TeX-AMS-MML_SVG\"></script><script type=\"text/javascript\">if (window.MathJax && window.MathJax.Hub && window.MathJax.Hub.Config) {window.MathJax.Hub.Config({SVG: {font: \"STIX-Web\"}});}</script>                <script type=\"text/javascript\">window.PlotlyConfig = {MathJaxConfig: 'local'};</script>\n",
              "        <script charset=\"utf-8\" src=\"https://cdn.plot.ly/plotly-2.35.2.min.js\"></script>                <div id=\"2fc2b928-08f3-49c8-a72d-d2fcea0b1e7d\" class=\"plotly-graph-div\" style=\"height:525px; width:100%;\"></div>            <script type=\"text/javascript\">                                    window.PLOTLYENV=window.PLOTLYENV || {};                                    if (document.getElementById(\"2fc2b928-08f3-49c8-a72d-d2fcea0b1e7d\")) {                    Plotly.newPlot(                        \"2fc2b928-08f3-49c8-a72d-d2fcea0b1e7d\",                        [{\"hovertemplate\":\"Wine Cultivar=0\\u003cbr\\u003e0=%{x}\\u003cbr\\u003e1=%{y}\\u003cextra\\u003e\\u003c\\u002fextra\\u003e\",\"legendgroup\":\"0\",\"marker\":{\"color\":\"#636efa\",\"symbol\":\"circle\"},\"mode\":\"markers\",\"name\":\"0\",\"orientation\":\"v\",\"showlegend\":true,\"x\":[7.6950817,7.914623,9.297712,9.255281,8.2905655,9.412869,8.419664,8.993025,8.379159,8.221708,9.299548,8.292867,8.590781,9.032733,9.284198,9.171914,9.090547,9.09475,9.606979,7.2986703,7.6661534,6.985113,7.8317256,7.858731,7.702127,8.402288,8.464806,8.152572,8.2649975,8.0828705,9.275332,9.442353,8.641107,9.033645,8.492948,7.7254224,8.424817,8.325522,8.08727,7.425658,7.8044257,6.9026637,8.612485,6.8007865,7.908378,7.0129304,7.7435718,8.035972,9.156353,9.564538,8.294322,8.866421,9.197782,9.11845,7.7658033,9.282305,7.864287,8.789992,9.1003895],\"xaxis\":\"x\",\"y\":[9.13309,8.047533,7.3802495,8.790668,6.6131954,8.572893,8.043781,6.782521,8.337569,8.686067,8.171659,7.8220577,7.833693,8.327859,8.354795,6.6452966,6.7913604,6.644994,8.46865,8.53392,9.182696,7.8059764,7.7132783,7.3782587,7.1739054,6.531653,7.271029,7.810417,6.7207437,8.243391,7.242503,8.07753,7.479661,6.5332212,6.967974,7.497963,6.910263,7.1696258,7.76484,8.790106,9.17799,8.018301,8.832846,7.9627304,8.952717,8.135084,8.459158,8.833685,7.6007214,8.363427,8.563188,7.823499,8.803388,6.6268144,9.02801,7.56202,9.113946,7.0498705,8.847724],\"yaxis\":\"y\",\"type\":\"scatter\"},{\"hovertemplate\":\"Wine Cultivar=1\\u003cbr\\u003e0=%{x}\\u003cbr\\u003e1=%{y}\\u003cextra\\u003e\\u003c\\u002fextra\\u003e\",\"legendgroup\":\"1\",\"marker\":{\"color\":\"#EF553B\",\"symbol\":\"circle\"},\"mode\":\"markers\",\"name\":\"1\",\"orientation\":\"v\",\"showlegend\":true,\"x\":[3.0434458,-0.8110446,-0.9779177,3.019485,4.174004,1.5339679,4.762129,3.953982,3.167458,-0.7856219,6.82658,0.14487088,7.6225786,2.8932738,8.513101,4.180221,3.0645692,3.1171486,-0.26032934,6.9049726,4.0903187,3.5679333,3.541438,1.9386945,-2.4542441,3.731357,3.510385,1.8326142,2.015325,1.7117554,2.2178771,1.2731752,1.2941703,1.0609077,3.941875,4.0833187,7.0146694,-1.0400462,3.716743,4.0635405,4.0763774,3.4253216,2.9388328,3.1869748,3.0160985,2.999487,1.073614,2.8096712,1.0517259,3.0749784,3.77259,4.2874303,3.1533475,1.4933803,1.9756124,2.499413,2.0412514,2.987878,2.9548423,-1.9896,3.0578606,3.6167932,8.170224,3.173484,4.4249206,4.285954,2.9254453,3.0986798,2.4890344,2.806151,2.8890545],\"xaxis\":\"x\",\"y\":[8.7896,4.964152,4.8822923,8.421709,8.293748,6.2346334,7.433577,8.736046,8.127862,5.0240602,9.368042,6.2147856,7.098627,7.3451247,6.4243126,8.155622,8.511544,8.696225,6.0399055,9.430173,6.9847617,8.242472,8.017161,6.356435,5.576584,6.960765,8.083994,6.290474,6.2906017,6.4262013,6.535902,6.44287,6.443572,6.44778,7.668901,7.9630423,9.431009,5.877134,8.463344,8.417825,7.3595543,8.566203,8.214854,6.786893,7.6064963,7.9359946,6.3107905,7.950086,6.4312334,7.5495973,6.927794,7.2164235,7.1012187,6.156624,6.6368747,6.8136683,6.399466,7.6777105,7.261342,5.6348224,7.581345,6.86038,6.3285666,6.462648,7.053987,7.1278067,6.927621,6.84447,6.4552193,6.8547797,6.5615373],\"yaxis\":\"y\",\"type\":\"scatter\"},{\"hovertemplate\":\"Wine Cultivar=2\\u003cbr\\u003e0=%{x}\\u003cbr\\u003e1=%{y}\\u003cextra\\u003e\\u003c\\u002fextra\\u003e\",\"legendgroup\":\"2\",\"marker\":{\"color\":\"#00cc96\",\"symbol\":\"circle\"},\"mode\":\"markers\",\"name\":\"2\",\"orientation\":\"v\",\"showlegend\":true,\"x\":[-1.1952167,-1.4261452,-1.3794172,-1.4565393,-1.2404739,-1.5094706,-2.6833599,-2.8361077,-2.3235736,-2.677477,-2.2098322,-1.9301305,-2.487844,-2.5176716,-1.9086505,-1.9359744,-2.5787005,-2.9065363,-2.9696913,-2.0088544,-2.0339406,-2.0071626,-1.9935366,-3.0265594,-1.6985364,-2.9267502,-2.9897459,-2.7462108,-2.9759712,-3.0128722,-3.1083143,-2.4082572,-2.5490825,-1.7657701,-3.491991,-2.6472287,-2.3745944,-3.4454389,-2.6334293,-2.339925,-1.7978334,-3.3583267,-3.3183105,-2.77344,-2.6028097,-2.2767346,-2.4220424,-2.71611],\"xaxis\":\"x\",\"y\":[5.8057237,5.6093416,5.5122037,5.6149917,4.8899903,4.902086,5.789509,5.6674166,5.6841326,6.1985736,6.2941113,5.58279,6.2403607,5.663027,4.945314,5.4148436,5.4129667,5.0173354,4.4801,4.1144648,3.7749562,3.7841225,3.7297883,4.344308,4.7128787,4.8735914,4.6829762,6.1073847,4.129995,4.07328,4.663789,6.16946,6.201784,5.614472,4.405269,5.4819994,3.9767113,4.459366,4.029863,3.9249945,5.559023,4.568573,4.4492254,5.079547,4.4164906,4.2657843,4.2750998,4.3909445],\"yaxis\":\"y\",\"type\":\"scatter\"}],                        {\"template\":{\"data\":{\"histogram2dcontour\":[{\"type\":\"histogram2dcontour\",\"colorbar\":{\"outlinewidth\":0,\"ticks\":\"\"},\"colorscale\":[[0.0,\"#0d0887\"],[0.1111111111111111,\"#46039f\"],[0.2222222222222222,\"#7201a8\"],[0.3333333333333333,\"#9c179e\"],[0.4444444444444444,\"#bd3786\"],[0.5555555555555556,\"#d8576b\"],[0.6666666666666666,\"#ed7953\"],[0.7777777777777778,\"#fb9f3a\"],[0.8888888888888888,\"#fdca26\"],[1.0,\"#f0f921\"]]}],\"choropleth\":[{\"type\":\"choropleth\",\"colorbar\":{\"outlinewidth\":0,\"ticks\":\"\"}}],\"histogram2d\":[{\"type\":\"histogram2d\",\"colorbar\":{\"outlinewidth\":0,\"ticks\":\"\"},\"colorscale\":[[0.0,\"#0d0887\"],[0.1111111111111111,\"#46039f\"],[0.2222222222222222,\"#7201a8\"],[0.3333333333333333,\"#9c179e\"],[0.4444444444444444,\"#bd3786\"],[0.5555555555555556,\"#d8576b\"],[0.6666666666666666,\"#ed7953\"],[0.7777777777777778,\"#fb9f3a\"],[0.8888888888888888,\"#fdca26\"],[1.0,\"#f0f921\"]]}],\"heatmap\":[{\"type\":\"heatmap\",\"colorbar\":{\"outlinewidth\":0,\"ticks\":\"\"},\"colorscale\":[[0.0,\"#0d0887\"],[0.1111111111111111,\"#46039f\"],[0.2222222222222222,\"#7201a8\"],[0.3333333333333333,\"#9c179e\"],[0.4444444444444444,\"#bd3786\"],[0.5555555555555556,\"#d8576b\"],[0.6666666666666666,\"#ed7953\"],[0.7777777777777778,\"#fb9f3a\"],[0.8888888888888888,\"#fdca26\"],[1.0,\"#f0f921\"]]}],\"heatmapgl\":[{\"type\":\"heatmapgl\",\"colorbar\":{\"outlinewidth\":0,\"ticks\":\"\"},\"colorscale\":[[0.0,\"#0d0887\"],[0.1111111111111111,\"#46039f\"],[0.2222222222222222,\"#7201a8\"],[0.3333333333333333,\"#9c179e\"],[0.4444444444444444,\"#bd3786\"],[0.5555555555555556,\"#d8576b\"],[0.6666666666666666,\"#ed7953\"],[0.7777777777777778,\"#fb9f3a\"],[0.8888888888888888,\"#fdca26\"],[1.0,\"#f0f921\"]]}],\"contourcarpet\":[{\"type\":\"contourcarpet\",\"colorbar\":{\"outlinewidth\":0,\"ticks\":\"\"}}],\"contour\":[{\"type\":\"contour\",\"colorbar\":{\"outlinewidth\":0,\"ticks\":\"\"},\"colorscale\":[[0.0,\"#0d0887\"],[0.1111111111111111,\"#46039f\"],[0.2222222222222222,\"#7201a8\"],[0.3333333333333333,\"#9c179e\"],[0.4444444444444444,\"#bd3786\"],[0.5555555555555556,\"#d8576b\"],[0.6666666666666666,\"#ed7953\"],[0.7777777777777778,\"#fb9f3a\"],[0.8888888888888888,\"#fdca26\"],[1.0,\"#f0f921\"]]}],\"surface\":[{\"type\":\"surface\",\"colorbar\":{\"outlinewidth\":0,\"ticks\":\"\"},\"colorscale\":[[0.0,\"#0d0887\"],[0.1111111111111111,\"#46039f\"],[0.2222222222222222,\"#7201a8\"],[0.3333333333333333,\"#9c179e\"],[0.4444444444444444,\"#bd3786\"],[0.5555555555555556,\"#d8576b\"],[0.6666666666666666,\"#ed7953\"],[0.7777777777777778,\"#fb9f3a\"],[0.8888888888888888,\"#fdca26\"],[1.0,\"#f0f921\"]]}],\"mesh3d\":[{\"type\":\"mesh3d\",\"colorbar\":{\"outlinewidth\":0,\"ticks\":\"\"}}],\"scatter\":[{\"fillpattern\":{\"fillmode\":\"overlay\",\"size\":10,\"solidity\":0.2},\"type\":\"scatter\"}],\"parcoords\":[{\"type\":\"parcoords\",\"line\":{\"colorbar\":{\"outlinewidth\":0,\"ticks\":\"\"}}}],\"scatterpolargl\":[{\"type\":\"scatterpolargl\",\"marker\":{\"colorbar\":{\"outlinewidth\":0,\"ticks\":\"\"}}}],\"bar\":[{\"error_x\":{\"color\":\"#2a3f5f\"},\"error_y\":{\"color\":\"#2a3f5f\"},\"marker\":{\"line\":{\"color\":\"#E5ECF6\",\"width\":0.5},\"pattern\":{\"fillmode\":\"overlay\",\"size\":10,\"solidity\":0.2}},\"type\":\"bar\"}],\"scattergeo\":[{\"type\":\"scattergeo\",\"marker\":{\"colorbar\":{\"outlinewidth\":0,\"ticks\":\"\"}}}],\"scatterpolar\":[{\"type\":\"scatterpolar\",\"marker\":{\"colorbar\":{\"outlinewidth\":0,\"ticks\":\"\"}}}],\"histogram\":[{\"marker\":{\"pattern\":{\"fillmode\":\"overlay\",\"size\":10,\"solidity\":0.2}},\"type\":\"histogram\"}],\"scattergl\":[{\"type\":\"scattergl\",\"marker\":{\"colorbar\":{\"outlinewidth\":0,\"ticks\":\"\"}}}],\"scatter3d\":[{\"type\":\"scatter3d\",\"line\":{\"colorbar\":{\"outlinewidth\":0,\"ticks\":\"\"}},\"marker\":{\"colorbar\":{\"outlinewidth\":0,\"ticks\":\"\"}}}],\"scattermapbox\":[{\"type\":\"scattermapbox\",\"marker\":{\"colorbar\":{\"outlinewidth\":0,\"ticks\":\"\"}}}],\"scatterternary\":[{\"type\":\"scatterternary\",\"marker\":{\"colorbar\":{\"outlinewidth\":0,\"ticks\":\"\"}}}],\"scattercarpet\":[{\"type\":\"scattercarpet\",\"marker\":{\"colorbar\":{\"outlinewidth\":0,\"ticks\":\"\"}}}],\"carpet\":[{\"aaxis\":{\"endlinecolor\":\"#2a3f5f\",\"gridcolor\":\"white\",\"linecolor\":\"white\",\"minorgridcolor\":\"white\",\"startlinecolor\":\"#2a3f5f\"},\"baxis\":{\"endlinecolor\":\"#2a3f5f\",\"gridcolor\":\"white\",\"linecolor\":\"white\",\"minorgridcolor\":\"white\",\"startlinecolor\":\"#2a3f5f\"},\"type\":\"carpet\"}],\"table\":[{\"cells\":{\"fill\":{\"color\":\"#EBF0F8\"},\"line\":{\"color\":\"white\"}},\"header\":{\"fill\":{\"color\":\"#C8D4E3\"},\"line\":{\"color\":\"white\"}},\"type\":\"table\"}],\"barpolar\":[{\"marker\":{\"line\":{\"color\":\"#E5ECF6\",\"width\":0.5},\"pattern\":{\"fillmode\":\"overlay\",\"size\":10,\"solidity\":0.2}},\"type\":\"barpolar\"}],\"pie\":[{\"automargin\":true,\"type\":\"pie\"}]},\"layout\":{\"autotypenumbers\":\"strict\",\"colorway\":[\"#636efa\",\"#EF553B\",\"#00cc96\",\"#ab63fa\",\"#FFA15A\",\"#19d3f3\",\"#FF6692\",\"#B6E880\",\"#FF97FF\",\"#FECB52\"],\"font\":{\"color\":\"#2a3f5f\"},\"hovermode\":\"closest\",\"hoverlabel\":{\"align\":\"left\"},\"paper_bgcolor\":\"white\",\"plot_bgcolor\":\"#E5ECF6\",\"polar\":{\"bgcolor\":\"#E5ECF6\",\"angularaxis\":{\"gridcolor\":\"white\",\"linecolor\":\"white\",\"ticks\":\"\"},\"radialaxis\":{\"gridcolor\":\"white\",\"linecolor\":\"white\",\"ticks\":\"\"}},\"ternary\":{\"bgcolor\":\"#E5ECF6\",\"aaxis\":{\"gridcolor\":\"white\",\"linecolor\":\"white\",\"ticks\":\"\"},\"baxis\":{\"gridcolor\":\"white\",\"linecolor\":\"white\",\"ticks\":\"\"},\"caxis\":{\"gridcolor\":\"white\",\"linecolor\":\"white\",\"ticks\":\"\"}},\"coloraxis\":{\"colorbar\":{\"outlinewidth\":0,\"ticks\":\"\"}},\"colorscale\":{\"sequential\":[[0.0,\"#0d0887\"],[0.1111111111111111,\"#46039f\"],[0.2222222222222222,\"#7201a8\"],[0.3333333333333333,\"#9c179e\"],[0.4444444444444444,\"#bd3786\"],[0.5555555555555556,\"#d8576b\"],[0.6666666666666666,\"#ed7953\"],[0.7777777777777778,\"#fb9f3a\"],[0.8888888888888888,\"#fdca26\"],[1.0,\"#f0f921\"]],\"sequentialminus\":[[0.0,\"#0d0887\"],[0.1111111111111111,\"#46039f\"],[0.2222222222222222,\"#7201a8\"],[0.3333333333333333,\"#9c179e\"],[0.4444444444444444,\"#bd3786\"],[0.5555555555555556,\"#d8576b\"],[0.6666666666666666,\"#ed7953\"],[0.7777777777777778,\"#fb9f3a\"],[0.8888888888888888,\"#fdca26\"],[1.0,\"#f0f921\"]],\"diverging\":[[0,\"#8e0152\"],[0.1,\"#c51b7d\"],[0.2,\"#de77ae\"],[0.3,\"#f1b6da\"],[0.4,\"#fde0ef\"],[0.5,\"#f7f7f7\"],[0.6,\"#e6f5d0\"],[0.7,\"#b8e186\"],[0.8,\"#7fbc41\"],[0.9,\"#4d9221\"],[1,\"#276419\"]]},\"xaxis\":{\"gridcolor\":\"white\",\"linecolor\":\"white\",\"ticks\":\"\",\"title\":{\"standoff\":15},\"zerolinecolor\":\"white\",\"automargin\":true,\"zerolinewidth\":2},\"yaxis\":{\"gridcolor\":\"white\",\"linecolor\":\"white\",\"ticks\":\"\",\"title\":{\"standoff\":15},\"zerolinecolor\":\"white\",\"automargin\":true,\"zerolinewidth\":2},\"scene\":{\"xaxis\":{\"backgroundcolor\":\"#E5ECF6\",\"gridcolor\":\"white\",\"linecolor\":\"white\",\"showbackground\":true,\"ticks\":\"\",\"zerolinecolor\":\"white\",\"gridwidth\":2},\"yaxis\":{\"backgroundcolor\":\"#E5ECF6\",\"gridcolor\":\"white\",\"linecolor\":\"white\",\"showbackground\":true,\"ticks\":\"\",\"zerolinecolor\":\"white\",\"gridwidth\":2},\"zaxis\":{\"backgroundcolor\":\"#E5ECF6\",\"gridcolor\":\"white\",\"linecolor\":\"white\",\"showbackground\":true,\"ticks\":\"\",\"zerolinecolor\":\"white\",\"gridwidth\":2}},\"shapedefaults\":{\"line\":{\"color\":\"#2a3f5f\"}},\"annotationdefaults\":{\"arrowcolor\":\"#2a3f5f\",\"arrowhead\":0,\"arrowwidth\":1},\"geo\":{\"bgcolor\":\"white\",\"landcolor\":\"#E5ECF6\",\"subunitcolor\":\"white\",\"showland\":true,\"showlakes\":true,\"lakecolor\":\"white\"},\"title\":{\"x\":0.05},\"mapbox\":{\"style\":\"light\"}}},\"xaxis\":{\"anchor\":\"y\",\"domain\":[0.0,1.0],\"title\":{\"text\":\"0\"}},\"yaxis\":{\"anchor\":\"x\",\"domain\":[0.0,1.0],\"title\":{\"text\":\"1\"}},\"legend\":{\"title\":{\"text\":\"Wine Cultivar\"},\"tracegroupgap\":0},\"margin\":{\"t\":60},\"title\":{\"text\":\"UMAP Projections of Wine Dataset\"}},                        {\"responsive\": true}                    ).then(function(){\n",
              "                            \n",
              "var gd = document.getElementById('2fc2b928-08f3-49c8-a72d-d2fcea0b1e7d');\n",
              "var x = new MutationObserver(function (mutations, observer) {{\n",
              "        var display = window.getComputedStyle(gd).display;\n",
              "        if (!display || display === 'none') {{\n",
              "            console.log([gd, 'removed!']);\n",
              "            Plotly.purge(gd);\n",
              "            observer.disconnect();\n",
              "        }}\n",
              "}});\n",
              "\n",
              "// Listen for the removal of the full notebook cells\n",
              "var notebookContainer = gd.closest('#notebook-container');\n",
              "if (notebookContainer) {{\n",
              "    x.observe(notebookContainer, {childList: true});\n",
              "}}\n",
              "\n",
              "// Listen for the clearing of the current output cell\n",
              "var outputEl = gd.closest('.output');\n",
              "if (outputEl) {{\n",
              "    x.observe(outputEl, {childList: true});\n",
              "}}\n",
              "\n",
              "                        })                };                            </script>        </div>\n",
              "</body>\n",
              "</html>"
            ]
          },
          "metadata": {}
        }
      ]
    },
    {
      "cell_type": "markdown",
      "source": [
        "**A brief analysis of which technique produced the clearest clusters and a discussion on the computation time for each method.**\n",
        "\n",
        "For PCA, you can see there is some separation between the clusters, but there aren't very clear margins and there is some overlap. This is probably because PCA is a linear dimensionality reduction method and may not the best for capturing non-linear relationships with the data. However, it was the fasted among the three methods. For t-SNE, the clusters are more defined compared to PCA, but there is still some overlap. t-SNE is good for revealing local clusters and very effective and capturing complex relationships but it can vary a lot with different perplexity values. t-SNE took significantly longer to run than PCA, which is to be expective as it is an iterative optimization approach. UMAP had the most clearly separated clusters with very minimal overlap. This shows that it is better for mainting both local and globala data relationships. It was also adequate in its computational run time, as it was faster than t-SNE, but slower than PCA"
      ],
      "metadata": {
        "id": "BUmICKAfpfk1"
      }
    }
  ]
}