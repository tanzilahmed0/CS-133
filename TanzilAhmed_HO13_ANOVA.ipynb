{
  "nbformat": 4,
  "nbformat_minor": 0,
  "metadata": {
    "colab": {
      "provenance": [],
      "include_colab_link": true
    },
    "kernelspec": {
      "name": "python3",
      "display_name": "Python 3"
    },
    "language_info": {
      "name": "python"
    }
  },
  "cells": [
    {
      "cell_type": "markdown",
      "metadata": {
        "id": "view-in-github",
        "colab_type": "text"
      },
      "source": [
        "<a href=\"https://colab.research.google.com/github/tanzilahmed0/CS-133/blob/main/TanzilAhmed_HO13_ANOVA.ipynb\" target=\"_parent\"><img src=\"https://colab.research.google.com/assets/colab-badge.svg\" alt=\"Open In Colab\"/></a>"
      ]
    },
    {
      "cell_type": "markdown",
      "source": [
        "# **Hands-on 13**\n",
        "## **One-way ANOVA**\n",
        "Created by Kathy Lam"
      ],
      "metadata": {
        "id": "kdSbsQGWq0-B"
      }
    },
    {
      "cell_type": "markdown",
      "source": [
        "<img src='https://static1.cbrimages.com/wordpress/wp-content/uploads/2019/07/Kaiba-stole-all-the-blue-eyed-white-dragon-cards-he-owns-and-killed-one-of-the-previous-owners-to-get-it.jpg?q=50&fit=contain&w=750&h=&dpr=1.5' width=600><br>\n",
        "\n",
        "\n",
        "Suppose we have 4 different kinds of trading card games and we want to know if one card game is more or less expensive than the others. We collected the prices of the trading cards from yugioh, pokemon, weiss schwarz, and magic, then stored them in a dataframe below.\n",
        "\n",
        "Here is the link to the data: `https://raw.githubusercontent.com/kathylambchops/data/main/tcg_prices.csv`\n"
      ],
      "metadata": {
        "id": "lh4XwgqdrDrQ"
      }
    },
    {
      "cell_type": "markdown",
      "source": [
        "## **Question 1**: Read in the data and view the LAST 7 lines. (0 pt)"
      ],
      "metadata": {
        "id": "_7RK3KOmUSPI"
      }
    },
    {
      "cell_type": "code",
      "source": [
        "import pandas as pd\n",
        "\n",
        "# Q1 answer\n",
        "\n",
        "df = pd.read_csv('https://raw.githubusercontent.com/kathylambchops/data/main/tcg_prices.csv')\n",
        "df.tail(7)"
      ],
      "metadata": {
        "id": "TZG5Wv34TzCy",
        "colab": {
          "base_uri": "https://localhost:8080/",
          "height": 269
        },
        "outputId": "55ab3031-8f03-4538-a3c4-7e13c39e8611"
      },
      "execution_count": null,
      "outputs": [
        {
          "output_type": "execute_result",
          "data": {
            "text/plain": [
              "     Yugioh  Pokemon  Weiss  Magic\n",
              "993     NaN      NaN  125.0    275\n",
              "994     NaN      NaN  257.0    189\n",
              "995     NaN      NaN  116.0    124\n",
              "996     NaN      NaN   67.0     11\n",
              "997     NaN      NaN  302.0    193\n",
              "998     NaN      NaN   91.0    249\n",
              "999     NaN      NaN    NaN    111"
            ],
            "text/html": [
              "\n",
              "  <div id=\"df-3be47842-1407-4132-8ea8-2cfd5d7a8bd4\">\n",
              "    <div class=\"colab-df-container\">\n",
              "      <div>\n",
              "<style scoped>\n",
              "    .dataframe tbody tr th:only-of-type {\n",
              "        vertical-align: middle;\n",
              "    }\n",
              "\n",
              "    .dataframe tbody tr th {\n",
              "        vertical-align: top;\n",
              "    }\n",
              "\n",
              "    .dataframe thead th {\n",
              "        text-align: right;\n",
              "    }\n",
              "</style>\n",
              "<table border=\"1\" class=\"dataframe\">\n",
              "  <thead>\n",
              "    <tr style=\"text-align: right;\">\n",
              "      <th></th>\n",
              "      <th>Yugioh</th>\n",
              "      <th>Pokemon</th>\n",
              "      <th>Weiss</th>\n",
              "      <th>Magic</th>\n",
              "    </tr>\n",
              "  </thead>\n",
              "  <tbody>\n",
              "    <tr>\n",
              "      <th>993</th>\n",
              "      <td>NaN</td>\n",
              "      <td>NaN</td>\n",
              "      <td>125.0</td>\n",
              "      <td>275</td>\n",
              "    </tr>\n",
              "    <tr>\n",
              "      <th>994</th>\n",
              "      <td>NaN</td>\n",
              "      <td>NaN</td>\n",
              "      <td>257.0</td>\n",
              "      <td>189</td>\n",
              "    </tr>\n",
              "    <tr>\n",
              "      <th>995</th>\n",
              "      <td>NaN</td>\n",
              "      <td>NaN</td>\n",
              "      <td>116.0</td>\n",
              "      <td>124</td>\n",
              "    </tr>\n",
              "    <tr>\n",
              "      <th>996</th>\n",
              "      <td>NaN</td>\n",
              "      <td>NaN</td>\n",
              "      <td>67.0</td>\n",
              "      <td>11</td>\n",
              "    </tr>\n",
              "    <tr>\n",
              "      <th>997</th>\n",
              "      <td>NaN</td>\n",
              "      <td>NaN</td>\n",
              "      <td>302.0</td>\n",
              "      <td>193</td>\n",
              "    </tr>\n",
              "    <tr>\n",
              "      <th>998</th>\n",
              "      <td>NaN</td>\n",
              "      <td>NaN</td>\n",
              "      <td>91.0</td>\n",
              "      <td>249</td>\n",
              "    </tr>\n",
              "    <tr>\n",
              "      <th>999</th>\n",
              "      <td>NaN</td>\n",
              "      <td>NaN</td>\n",
              "      <td>NaN</td>\n",
              "      <td>111</td>\n",
              "    </tr>\n",
              "  </tbody>\n",
              "</table>\n",
              "</div>\n",
              "      <button class=\"colab-df-convert\" onclick=\"convertToInteractive('df-3be47842-1407-4132-8ea8-2cfd5d7a8bd4')\"\n",
              "              title=\"Convert this dataframe to an interactive table.\"\n",
              "              style=\"display:none;\">\n",
              "        \n",
              "  <svg xmlns=\"http://www.w3.org/2000/svg\" height=\"24px\"viewBox=\"0 0 24 24\"\n",
              "       width=\"24px\">\n",
              "    <path d=\"M0 0h24v24H0V0z\" fill=\"none\"/>\n",
              "    <path d=\"M18.56 5.44l.94 2.06.94-2.06 2.06-.94-2.06-.94-.94-2.06-.94 2.06-2.06.94zm-11 1L8.5 8.5l.94-2.06 2.06-.94-2.06-.94L8.5 2.5l-.94 2.06-2.06.94zm10 10l.94 2.06.94-2.06 2.06-.94-2.06-.94-.94-2.06-.94 2.06-2.06.94z\"/><path d=\"M17.41 7.96l-1.37-1.37c-.4-.4-.92-.59-1.43-.59-.52 0-1.04.2-1.43.59L10.3 9.45l-7.72 7.72c-.78.78-.78 2.05 0 2.83L4 21.41c.39.39.9.59 1.41.59.51 0 1.02-.2 1.41-.59l7.78-7.78 2.81-2.81c.8-.78.8-2.07 0-2.86zM5.41 20L4 18.59l7.72-7.72 1.47 1.35L5.41 20z\"/>\n",
              "  </svg>\n",
              "      </button>\n",
              "      \n",
              "  <style>\n",
              "    .colab-df-container {\n",
              "      display:flex;\n",
              "      flex-wrap:wrap;\n",
              "      gap: 12px;\n",
              "    }\n",
              "\n",
              "    .colab-df-convert {\n",
              "      background-color: #E8F0FE;\n",
              "      border: none;\n",
              "      border-radius: 50%;\n",
              "      cursor: pointer;\n",
              "      display: none;\n",
              "      fill: #1967D2;\n",
              "      height: 32px;\n",
              "      padding: 0 0 0 0;\n",
              "      width: 32px;\n",
              "    }\n",
              "\n",
              "    .colab-df-convert:hover {\n",
              "      background-color: #E2EBFA;\n",
              "      box-shadow: 0px 1px 2px rgba(60, 64, 67, 0.3), 0px 1px 3px 1px rgba(60, 64, 67, 0.15);\n",
              "      fill: #174EA6;\n",
              "    }\n",
              "\n",
              "    [theme=dark] .colab-df-convert {\n",
              "      background-color: #3B4455;\n",
              "      fill: #D2E3FC;\n",
              "    }\n",
              "\n",
              "    [theme=dark] .colab-df-convert:hover {\n",
              "      background-color: #434B5C;\n",
              "      box-shadow: 0px 1px 3px 1px rgba(0, 0, 0, 0.15);\n",
              "      filter: drop-shadow(0px 1px 2px rgba(0, 0, 0, 0.3));\n",
              "      fill: #FFFFFF;\n",
              "    }\n",
              "  </style>\n",
              "\n",
              "      <script>\n",
              "        const buttonEl =\n",
              "          document.querySelector('#df-3be47842-1407-4132-8ea8-2cfd5d7a8bd4 button.colab-df-convert');\n",
              "        buttonEl.style.display =\n",
              "          google.colab.kernel.accessAllowed ? 'block' : 'none';\n",
              "\n",
              "        async function convertToInteractive(key) {\n",
              "          const element = document.querySelector('#df-3be47842-1407-4132-8ea8-2cfd5d7a8bd4');\n",
              "          const dataTable =\n",
              "            await google.colab.kernel.invokeFunction('convertToInteractive',\n",
              "                                                     [key], {});\n",
              "          if (!dataTable) return;\n",
              "\n",
              "          const docLinkHtml = 'Like what you see? Visit the ' +\n",
              "            '<a target=\"_blank\" href=https://colab.research.google.com/notebooks/data_table.ipynb>data table notebook</a>'\n",
              "            + ' to learn more about interactive tables.';\n",
              "          element.innerHTML = '';\n",
              "          dataTable['output_type'] = 'display_data';\n",
              "          await google.colab.output.renderOutput(dataTable, element);\n",
              "          const docLink = document.createElement('div');\n",
              "          docLink.innerHTML = docLinkHtml;\n",
              "          element.appendChild(docLink);\n",
              "        }\n",
              "      </script>\n",
              "    </div>\n",
              "  </div>\n",
              "  "
            ]
          },
          "metadata": {},
          "execution_count": 2
        }
      ]
    },
    {
      "cell_type": "markdown",
      "source": [
        "## **Question 2**: Calculate the mean of each group and the grand mean. (2 pt)\n",
        "#### **NOTE:** You should see from the previous problem that there are some NaN values in the dataframe; these are missing values. That means the groups DO NOT contain the same number of values. To find how many non-null values are in each column, you can use the `info()` method on the dataframe, or you can use the `count()` method on each column. To sum up all the values in a column you can use the pandas `sum()` method.\n",
        "\n",
        "Helpful Syntax:     \n",
        "`dataframe['column'].count()`  \n",
        "`dataframe['column'].sum()`"
      ],
      "metadata": {
        "id": "eo7GXLubuWs9"
      }
    },
    {
      "cell_type": "code",
      "source": [
        "# Q2 answer\n",
        "import pandas as pd\n",
        "\n",
        "# find each group mean\n",
        "yugioh_mean =  df['Yugioh'].sum() / df['Yugioh'].count()\n",
        "pokemon_mean = df['Pokemon'].sum() / df['Pokemon'].count()\n",
        "weiss_mean =  df['Weiss'].sum() / df['Weiss'].count()\n",
        "magic_mean =  df['Magic'].sum() / df['Magic'].count()\n",
        "\n",
        "# store the sample size for each group in the appropriate variable\n",
        "yugioh_n = df['Yugioh'].count()\n",
        "pokemon_n = df['Pokemon'].count()\n",
        "weiss_n = df['Weiss'].count()\n",
        "magic_n = df['Magic'].count()\n",
        "\n",
        "\n",
        "# calculate grand mean when groups have different sample sizes\n",
        "grand_mean = (df['Yugioh'].sum() + df['Pokemon'].sum() + df['Weiss'].sum() + df['Magic'].sum()) / (df['Yugioh'].count() + df['Pokemon'].count() + df['Weiss'].count() + df['Magic'].count())\n",
        "\n",
        "print(f\"Yugioh mean: {round(yugioh_mean, 2)}\")\n",
        "print(f\"Pokemon mean: {round(pokemon_mean, 2)}\")\n",
        "print(f\"Weiss mean: {round(weiss_mean, 2)}\")\n",
        "print(f\"Magic mean: {round(magic_mean, 2)}\")\n",
        "print(f\"Grand mean: {round(grand_mean, 2)}\")\n"
      ],
      "metadata": {
        "colab": {
          "base_uri": "https://localhost:8080/"
        },
        "id": "tVqa-wAxtX-k",
        "outputId": "cb7e29c1-e266-464b-e35b-37804a6241e0"
      },
      "execution_count": null,
      "outputs": [
        {
          "output_type": "stream",
          "name": "stdout",
          "text": [
            "Yugioh mean: 151.21\n",
            "Pokemon mean: 149.3\n",
            "Weiss mean: 201.63\n",
            "Magic mean: 206.02\n",
            "Grand mean: 178.29\n"
          ]
        }
      ]
    },
    {
      "cell_type": "markdown",
      "source": [
        "## **Question 3**: Find the sum of squares for between groups using each sample mean and the grand mean. (2 pt)\n",
        "\n",
        "Recall:  \n",
        "Sample sizes are different:  \n",
        "$\\large SS_{between}$ = $\\large \\sum{n_k (\\bar{x}_k - \\bar{x}_G})^2$  \n",
        "\n",
        "<br>\n",
        "\n",
        "\n",
        "Sample sizes are the same:  \n",
        "$\\large SS_{between}$ = $\\large n\\sum{ (\\bar{x}_k - \\bar{x}_G})^2$"
      ],
      "metadata": {
        "id": "bz_FnkXz2Rxc"
      }
    },
    {
      "cell_type": "code",
      "source": [
        "def squared_dev(values_list, mean):\n",
        "  \"\"\" Takes a list of values and a mean. Returns a list of squared deviations\n",
        "  \"\"\"\n",
        "  sq_dev = []\n",
        "  for xi in values_list:\n",
        "    sq_dev.append((xi - mean)**2)\n",
        "\n",
        "  return sq_dev\n",
        "\n",
        "###################\n",
        "# Q3 answer\n",
        "\n",
        "# list xk stores all the group means\n",
        "xk = [yugioh_mean, pokemon_mean, weiss_mean, magic_mean]\n",
        "\n",
        "# list nk stores the sample sizes for each group\n",
        "nk = [yugioh_n, pokemon_n, weiss_n, magic_n]\n",
        "\n",
        "# sq_dev holds the squared deviations for the 4 groups by calling squared_dev() function\n",
        "sq_dev = squared_dev(xk, grand_mean)\n",
        "\n",
        "# we need to multiply sq_dev[0] with nk[0], then sq_dev[1] with nk[1]...etc\n",
        "temp = []\n",
        "for i in range(len(nk)): # i = 0,1,2,3\n",
        "  temp.append(sq_dev[i]*nk[i])\n",
        "\n",
        "ss_between = sum(temp)\n",
        "print(f\"SS_between: {ss_between}\")"
      ],
      "metadata": {
        "colab": {
          "base_uri": "https://localhost:8080/"
        },
        "id": "AJnWvcK2z2aR",
        "outputId": "e4dad5e3-7518-47a4-eecc-50bb31cda196"
      },
      "execution_count": null,
      "outputs": [
        {
          "output_type": "stream",
          "name": "stdout",
          "text": [
            "SS_between: 2742649.421705062\n"
          ]
        }
      ]
    },
    {
      "cell_type": "markdown",
      "source": [
        "## **Question 4**: Find the sum of squares for within groups using each sample mean and the grand mean. (2 pt)\n",
        "\n",
        "$\\large SS_{within}$ = $\\Large \\sum(x_i - \\bar{x}_k)^2$  \n",
        "\n",
        "<br>\n",
        "\n",
        "#### **Important Tip:** To get rid of the NaN values in a column, you can use the Pandas `dropna()` method.  Doing `df.column.dropna()` will give you a series with only non-null values! You can feed this into the `squared_dev()` function now."
      ],
      "metadata": {
        "id": "Txuh1VLp7chU"
      }
    },
    {
      "cell_type": "code",
      "source": [
        "df.Yugioh.dropna()"
      ],
      "metadata": {
        "colab": {
          "base_uri": "https://localhost:8080/"
        },
        "id": "KyasE1mc8phU",
        "outputId": "528315f8-6c71-4b02-9edc-03839567e52a"
      },
      "execution_count": null,
      "outputs": [
        {
          "output_type": "execute_result",
          "data": {
            "text/plain": [
              "0       93.0\n",
              "1      228.0\n",
              "2        9.0\n",
              "3      285.0\n",
              "4      288.0\n",
              "       ...  \n",
              "970    248.0\n",
              "971    205.0\n",
              "972     91.0\n",
              "973     85.0\n",
              "974    209.0\n",
              "Name: Yugioh, Length: 975, dtype: float64"
            ]
          },
          "metadata": {},
          "execution_count": 40
        }
      ]
    },
    {
      "cell_type": "code",
      "source": [
        "# Q4 answer\n",
        "yugioh = df.Yugioh.dropna()\n",
        "pokemon = df.Pokemon.dropna()\n",
        "weiss = df.Weiss.dropna()\n",
        "magic = df.Magic.dropna()\n",
        "# Q4 solution\n",
        "\n",
        "yugioh_sq_dev = squared_dev(yugioh, yugioh_mean)\n",
        "pokemon_sq_dev = squared_dev(pokemon, pokemon_mean)\n",
        "weiss_sq_dev = squared_dev(weiss, weiss_mean)\n",
        "magic_sq_dev = squared_dev(magic, magic_mean)\n",
        "\n",
        "ss_within = (sum(yugioh_sq_dev) + sum(pokemon_sq_dev) + sum(weiss_sq_dev) + sum(magic_sq_dev))\n",
        "print(f\"SS_within: {ss_within}\")"
      ],
      "metadata": {
        "id": "-2rrqC_G7Bhq",
        "colab": {
          "base_uri": "https://localhost:8080/"
        },
        "outputId": "bb02b58f-6222-4275-f3f4-5201e87e367d"
      },
      "execution_count": null,
      "outputs": [
        {
          "output_type": "stream",
          "name": "stdout",
          "text": [
            "SS_within: 40298048.69440373\n"
          ]
        }
      ]
    },
    {
      "cell_type": "markdown",
      "source": [
        "## **Question 5**: Find the degrees of freedom for between groups and the degrees of freedom for within groups (1 pt)\n",
        "\n",
        "$\\large df_{between}$ = $\\large k-1$\n",
        "\n",
        "$\\large df_{within}$ = $\\large N-k$"
      ],
      "metadata": {
        "id": "g-7uN99YnX28"
      }
    },
    {
      "cell_type": "code",
      "source": [
        "# Q5 answer\n",
        "\n",
        "\n",
        "k = 4\n",
        "df_between = k - 1\n",
        "\n",
        "N = yugioh_n + pokemon_n + weiss_n + magic_n\n",
        "df_within = N - k\n",
        "\n",
        "print(f\"df_between: {df_between}\")\n",
        "print(f\"df_within: {df_within}\")"
      ],
      "metadata": {
        "colab": {
          "base_uri": "https://localhost:8080/"
        },
        "id": "U8ihDGNgnXiw",
        "outputId": "6a217a5a-c0d1-465e-ef01-4194dd1d001f"
      },
      "execution_count": null,
      "outputs": [
        {
          "output_type": "stream",
          "name": "stdout",
          "text": [
            "df_between: 3\n",
            "df_within: 3820\n"
          ]
        }
      ]
    },
    {
      "cell_type": "markdown",
      "source": [
        "## **Question 6**: Find the mean square for between and mean square for within (0.5 pt)\n",
        "\n",
        "$\\large SS_{between} / df_{between}$ = $\\large MS_{between}$  \n",
        "\n",
        "<br>\n",
        "\n",
        "$\\large SS_{within} / df_{within}$ = $\\large MS_{within}$"
      ],
      "metadata": {
        "id": "3lv2DIsZoD-B"
      }
    },
    {
      "cell_type": "code",
      "source": [
        "# Q6 answer\n",
        "\n",
        "\n",
        "ms_between = ss_between / df_between\n",
        "ms_within = ss_within / df_within\n",
        "\n",
        "print(f\"MS_between: {ms_between}\")\n",
        "print(f\"MS_within: {ms_within}\")"
      ],
      "metadata": {
        "colab": {
          "base_uri": "https://localhost:8080/"
        },
        "id": "H9ZNbJvInzk5",
        "outputId": "dd88ebe5-a067-49a4-9e9b-c3149fb8a87b"
      },
      "execution_count": null,
      "outputs": [
        {
          "output_type": "stream",
          "name": "stdout",
          "text": [
            "MS_between: 914216.4739016873\n",
            "MS_within: 10549.227406911972\n"
          ]
        }
      ]
    },
    {
      "cell_type": "markdown",
      "source": [
        "## **Question 7**: Find the F-statistic. (0.5 pt)\n",
        "\n",
        "$F$ = $\\Large\\frac{MS_{between}}{MS_{within}}$"
      ],
      "metadata": {
        "id": "JV28ep17oUbx"
      }
    },
    {
      "cell_type": "code",
      "source": [
        "# Q7 answer\n",
        "\n",
        "\n",
        "F = ms_between / ms_within\n",
        "print(f\"F-statistic: {F}\")"
      ],
      "metadata": {
        "colab": {
          "base_uri": "https://localhost:8080/"
        },
        "id": "q_OdUD7YoYGA",
        "outputId": "ce72b1d8-86b0-4a53-b3ae-2b9ddde1c389"
      },
      "execution_count": null,
      "outputs": [
        {
          "output_type": "stream",
          "name": "stdout",
          "text": [
            "F-statistic: 86.6619363331463\n"
          ]
        }
      ]
    },
    {
      "cell_type": "markdown",
      "source": [
        "## **Question 8:** Find the F-critical value using the [F-table](https://www.stat.purdue.edu/~lfindsen/stat511/F_alpha_05.pdf) with an $\\alpha$ level of 0.05 (0.5 pt)"
      ],
      "metadata": {
        "id": "VUIYtHebogvr"
      }
    },
    {
      "cell_type": "code",
      "source": [
        "# Q8 answer\n",
        "\n",
        "F_crit = 2.605"
      ],
      "metadata": {
        "id": "0zQUIvJroi97"
      },
      "execution_count": null,
      "outputs": []
    },
    {
      "cell_type": "markdown",
      "source": [
        "## **Question 9:** Compare F-statistic with F-critical value. Do we reject or retain the null? (0.5 pt)"
      ],
      "metadata": {
        "id": "6kzNAo7BpO9j"
      }
    },
    {
      "cell_type": "code",
      "source": [
        "# Q9 answer\n",
        "\n",
        "if F > F_crit:\n",
        "  print('We reject the null')\n",
        "else:\n",
        "  print('We fail to reject the null')\n"
      ],
      "metadata": {
        "colab": {
          "base_uri": "https://localhost:8080/"
        },
        "id": "_TdbWwi6pTll",
        "outputId": "5f935ce9-2a99-4cb2-dddb-9030e49f2cec"
      },
      "execution_count": null,
      "outputs": [
        {
          "output_type": "stream",
          "name": "stdout",
          "text": [
            "We reject the null\n"
          ]
        }
      ]
    },
    {
      "cell_type": "markdown",
      "source": [
        "## **Question 10:** What does it mean? (1 pt)\n",
        "We reject the null and accept the alternative hypothesis so at least one card game is significantly more expensive than the other."
      ],
      "metadata": {
        "id": "IEfetEjCpaJQ"
      }
    },
    {
      "cell_type": "code",
      "source": [],
      "metadata": {
        "id": "0vBDuMSjCuQ0"
      },
      "execution_count": null,
      "outputs": []
    }
  ]
}